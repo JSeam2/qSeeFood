{
 "cells": [
  {
   "cell_type": "code",
   "execution_count": 1,
   "metadata": {},
   "outputs": [],
   "source": [
    "from IPython.display import HTML"
   ]
  },
  {
   "cell_type": "markdown",
   "metadata": {},
   "source": [
    "# Quantum Hot Dog, Not Hot Dog Part 1\n",
    "\n",
    "## Question: How well can current quantum computers handle highly dimensional data?\n",
    "\n",
    "\n",
    "## Background\n",
    "If you have watched Silicon Valley, you would have come across the SeeFood fracas which made Jian Yang a 'very rich man'. If you haven't essentially, the SeeFood app classifies hot dogs and not hot dogs. For this project, we want to adapt this computer vision algorithm to quantum computers to classify hot dogs and not hot dogs using IBMQ.  \n",
    "\n",
    "## Overview of Current Direction\n",
    "To achieve this goal practically, we need to find a way to encode highly dimensional image data to the limited qubit registers available. Subsequently, we need to find an appropriate quantum machine learning algorithm and training algorithm that can be feasibly trained given the time constraints. The final output is essentially a binary classifier. The system will likely involve a combination of quantum and classical approaches.\n",
    "\n",
    "## Video Context\n"
   ]
  },
  {
   "cell_type": "code",
   "execution_count": 2,
   "metadata": {},
   "outputs": [
    {
     "name": "stderr",
     "output_type": "stream",
     "text": [
      "/Users/jseam/miniconda3/envs/quantum/lib/python3.7/site-packages/IPython/core/display.py:694: UserWarning: Consider using IPython.display.IFrame instead\n",
      "  warnings.warn(\"Consider using IPython.display.IFrame instead\")\n"
     ]
    },
    {
     "data": {
      "text/html": [
       "<iframe width=\"560\" height=\"315\" src=\"https://www.youtube.com/embed/FNyi3nAuLb0\" frameborder=\"0\" allow=\"accelerometer; autoplay; encrypted-media; gyroscope; picture-in-picture\" allowfullscreen></iframe>"
      ],
      "text/plain": [
       "<IPython.core.display.HTML object>"
      ]
     },
     "execution_count": 2,
     "metadata": {},
     "output_type": "execute_result"
    }
   ],
   "source": [
    "HTML('<iframe width=\"560\" height=\"315\" src=\"https://www.youtube.com/embed/FNyi3nAuLb0\" frameborder=\"0\" allow=\"accelerometer; autoplay; encrypted-media; gyroscope; picture-in-picture\" allowfullscreen></iframe>'\n",
    ")"
   ]
  },
  {
   "cell_type": "markdown",
   "metadata": {},
   "source": [
    "# Load Libraries"
   ]
  },
  {
   "cell_type": "code",
   "execution_count": 3,
   "metadata": {},
   "outputs": [
    {
     "name": "stderr",
     "output_type": "stream",
     "text": [
      "/Users/jseam/miniconda3/envs/quantum/lib/python3.7/site-packages/qiskit/providers/ibmq/credentials/configrc.py:130: UserWarning: Credentials already present. Set overwrite=True to overwrite.\n",
      "  warnings.warn('Credentials already present. '\n"
     ]
    }
   ],
   "source": [
    "%matplotlib inline\n",
    "\n",
    "# import relevant libraries\n",
    "import secret\n",
    "import os\n",
    "import pprint\n",
    "import numpy as np\n",
    "import matplotlib.pyplot as plt\n",
    "from sklearn.decomposition import PCA\n",
    "from sklearn.preprocessing import StandardScaler\n",
    "from sklearn.manifold import TSNE\n",
    "\n",
    "from qiskit import IBMQ\n",
    "# standard-ish Qiskit libraries\n",
    "from qiskit import QuantumRegister, ClassicalRegister, QuantumCircuit, execute, Aer, IBMQ\n",
    "\n",
    "# about transpiling, compiling, and executing\n",
    "from qiskit.compiler import transpile\n",
    "\n",
    "# For graphs\n",
    "from qiskit.tools.jupyter import *\n",
    "from qiskit.visualization import *\n",
    "\n",
    "# Aer noise models\n",
    "from qiskit.providers.aer import noise\n",
    "\n",
    "# Save account if you haven't already done so\n",
    "IBMQ.save_account(secret.TOKEN)"
   ]
  },
  {
   "cell_type": "markdown",
   "metadata": {},
   "source": [
    "# Sanity checks to see if we are properly connected"
   ]
  },
  {
   "cell_type": "code",
   "execution_count": 4,
   "metadata": {},
   "outputs": [
    {
     "data": {
      "text/plain": [
       "[<AccountProvider for IBMQ(hub='ibm-q', group='open', project='main')>]"
      ]
     },
     "execution_count": 4,
     "metadata": {},
     "output_type": "execute_result"
    }
   ],
   "source": [
    "# Check if IBMQ is working\n",
    "IBMQ.load_account()\n",
    "IBMQ.providers()"
   ]
  },
  {
   "cell_type": "code",
   "execution_count": 5,
   "metadata": {},
   "outputs": [
    {
     "name": "stdout",
     "output_type": "stream",
     "text": [
      "=================================================================================\n",
      "Simulators\n",
      "=================================================================================\n",
      "[<IBMQSimulator('ibmq_qasm_simulator') from IBMQ(hub='ibm-q', group='open', project='main')>]\n",
      "\n",
      "=================================================================================\n",
      "Real quantum computers\n",
      "=================================================================================\n",
      "[<IBMQBackend('ibmqx2') from IBMQ(hub='ibm-q', group='open', project='main')>,\n",
      " <IBMQBackend('ibmq_16_melbourne') from IBMQ(hub='ibm-q', group='open', project='main')>,\n",
      " <IBMQBackend('ibmq_vigo') from IBMQ(hub='ibm-q', group='open', project='main')>,\n",
      " <IBMQBackend('ibmq_ourense') from IBMQ(hub='ibm-q', group='open', project='main')>]\n",
      "\n"
     ]
    }
   ],
   "source": [
    "# Get provider and get backends\n",
    "provider = IBMQ.get_provider(hub='ibm-q')\n",
    "\n",
    "print('='*81)\n",
    "print(\"Simulators\")\n",
    "print('='*81)\n",
    "pprint.pprint(provider.backends(simulator=True, operational=True))\n",
    "print()\n",
    "\n",
    "print('='*81)\n",
    "print(\"Real quantum computers\")\n",
    "print('='*81)\n",
    "pprint.pprint(provider.backends(simulator=False, operational=True))\n",
    "print()"
   ]
  },
  {
   "cell_type": "markdown",
   "metadata": {},
   "source": [
    "# Feasibility And Cursory Study With MNIST\n",
    "We first study the feasibility of this with MNIST dataset. We will classify 1 and 0 digits for a start.\n",
    "\n",
    "## Load Data and Sanity Checks"
   ]
  },
  {
   "cell_type": "code",
   "execution_count": 6,
   "metadata": {},
   "outputs": [
    {
     "name": "stderr",
     "output_type": "stream",
     "text": [
      "/Users/jseam/miniconda3/envs/quantum/lib/python3.7/site-packages/tensorflow/python/framework/dtypes.py:526: FutureWarning: Passing (type, 1) or '1type' as a synonym of type is deprecated; in a future version of numpy, it will be understood as (type, (1,)) / '(1,)type'.\n",
      "  _np_qint8 = np.dtype([(\"qint8\", np.int8, 1)])\n",
      "/Users/jseam/miniconda3/envs/quantum/lib/python3.7/site-packages/tensorflow/python/framework/dtypes.py:527: FutureWarning: Passing (type, 1) or '1type' as a synonym of type is deprecated; in a future version of numpy, it will be understood as (type, (1,)) / '(1,)type'.\n",
      "  _np_quint8 = np.dtype([(\"quint8\", np.uint8, 1)])\n",
      "/Users/jseam/miniconda3/envs/quantum/lib/python3.7/site-packages/tensorflow/python/framework/dtypes.py:528: FutureWarning: Passing (type, 1) or '1type' as a synonym of type is deprecated; in a future version of numpy, it will be understood as (type, (1,)) / '(1,)type'.\n",
      "  _np_qint16 = np.dtype([(\"qint16\", np.int16, 1)])\n",
      "/Users/jseam/miniconda3/envs/quantum/lib/python3.7/site-packages/tensorflow/python/framework/dtypes.py:529: FutureWarning: Passing (type, 1) or '1type' as a synonym of type is deprecated; in a future version of numpy, it will be understood as (type, (1,)) / '(1,)type'.\n",
      "  _np_quint16 = np.dtype([(\"quint16\", np.uint16, 1)])\n",
      "/Users/jseam/miniconda3/envs/quantum/lib/python3.7/site-packages/tensorflow/python/framework/dtypes.py:530: FutureWarning: Passing (type, 1) or '1type' as a synonym of type is deprecated; in a future version of numpy, it will be understood as (type, (1,)) / '(1,)type'.\n",
      "  _np_qint32 = np.dtype([(\"qint32\", np.int32, 1)])\n",
      "/Users/jseam/miniconda3/envs/quantum/lib/python3.7/site-packages/tensorflow/python/framework/dtypes.py:535: FutureWarning: Passing (type, 1) or '1type' as a synonym of type is deprecated; in a future version of numpy, it will be understood as (type, (1,)) / '(1,)type'.\n",
      "  np_resource = np.dtype([(\"resource\", np.ubyte, 1)])\n"
     ]
    },
    {
     "name": "stdout",
     "output_type": "stream",
     "text": [
      "\n",
      "WARNING: The TensorFlow contrib module will not be included in TensorFlow 2.0.\n",
      "For more information, please see:\n",
      "  * https://github.com/tensorflow/community/blob/master/rfcs/20180907-contrib-sunset.md\n",
      "  * https://github.com/tensorflow/addons\n",
      "If you depend on functionality not listed there, please file an issue.\n",
      "\n"
     ]
    },
    {
     "name": "stderr",
     "output_type": "stream",
     "text": [
      "WARNING:absl:Warning: Setting shuffle_files=True because split=TRAIN and shuffle_files=None. This behavior will be deprecated on 2019-08-06, at which point shuffle_files=False will be the default for all splits.\n"
     ]
    },
    {
     "name": "stdout",
     "output_type": "stream",
     "text": [
      "WARNING:tensorflow:From /Users/jseam/miniconda3/envs/quantum/lib/python3.7/site-packages/tensorflow/python/ops/control_flow_ops.py:423: colocate_with (from tensorflow.python.framework.ops) is deprecated and will be removed in a future version.\n",
      "Instructions for updating:\n",
      "Colocations handled automatically by placer.\n"
     ]
    },
    {
     "name": "stderr",
     "output_type": "stream",
     "text": [
      "WARNING:tensorflow:From /Users/jseam/miniconda3/envs/quantum/lib/python3.7/site-packages/tensorflow/python/ops/control_flow_ops.py:423: colocate_with (from tensorflow.python.framework.ops) is deprecated and will be removed in a future version.\n",
      "Instructions for updating:\n",
      "Colocations handled automatically by placer.\n"
     ]
    }
   ],
   "source": [
    "# load data\n",
    "import tensorflow_datasets as tfds\n",
    "ds_train, ds_test = tfds.load(name=\"mnist\", split=[\"train\", \"test\"])"
   ]
  },
  {
   "cell_type": "code",
   "execution_count": 7,
   "metadata": {},
   "outputs": [],
   "source": [
    "train_0 = []\n",
    "train_1 = []\n",
    "train_label = []\n",
    "\n",
    "test_0 = []\n",
    "test_1 = []\n",
    "test_label = []\n",
    "\n",
    "for example in tfds.as_numpy(ds_train):\n",
    "    numpy_image, numpy_label = example[\"image\"], example[\"label\"]\n",
    "    if numpy_label == 0:\n",
    "        train_0.append(numpy_image.reshape((784)))\n",
    "        train_label.append(numpy_label)\n",
    "    \n",
    "    elif numpy_label == 1:\n",
    "        train_1.append(numpy_image.reshape((784)))\n",
    "        train_label.append(numpy_label)\n",
    "\n",
    "        \n",
    "    else:\n",
    "        continue\n",
    "\n",
    "for example in tfds.as_numpy(ds_test):\n",
    "    numpy_image, numpy_label = example[\"image\"], example[\"label\"]\n",
    "    if numpy_label == 0:\n",
    "        test_0.append(numpy_image.reshape((784)))\n",
    "        test_label.append(numpy_label)\n",
    "    \n",
    "    elif numpy_label == 1:\n",
    "        test_1.append(numpy_image.reshape((784)))\n",
    "        test_label.append(numpy_label)\n",
    "\n",
    "    else:\n",
    "        continue"
   ]
  },
  {
   "cell_type": "code",
   "execution_count": 8,
   "metadata": {},
   "outputs": [
    {
     "data": {
      "text/plain": [
       "<matplotlib.image.AxesImage at 0x13e7d9550>"
      ]
     },
     "execution_count": 8,
     "metadata": {},
     "output_type": "execute_result"
    },
    {
     "data": {
      "image/png": "[encoded data removed]",
      "text/plain": [
       "<Figure size 432x288 with 1 Axes>"
      ]
     },
     "metadata": {
      "needs_background": "light"
     },
     "output_type": "display_data"
    }
   ],
   "source": [
    "# Sanity Check\n",
    "pixels = train_0[0]\n",
    "pixels = pixels.reshape((28,28))\n",
    "plt.imshow(pixels)"
   ]
  },
  {
   "cell_type": "code",
   "execution_count": 9,
   "metadata": {},
   "outputs": [
    {
     "data": {
      "text/plain": [
       "<matplotlib.image.AxesImage at 0x134537c10>"
      ]
     },
     "execution_count": 9,
     "metadata": {},
     "output_type": "execute_result"
    },
    {
     "data": {
      "image/png": "[encoded data removed]",
      "text/plain": [
       "<Figure size 432x288 with 1 Axes>"
      ]
     },
     "metadata": {
      "needs_background": "light"
     },
     "output_type": "display_data"
    }
   ],
   "source": [
    "pixels = train_1[0]\n",
    "pixels = pixels.reshape((28,28))\n",
    "plt.imshow(pixels)"
   ]
  },
  {
   "cell_type": "code",
   "execution_count": 10,
   "metadata": {},
   "outputs": [
    {
     "data": {
      "text/plain": [
       "<matplotlib.image.AxesImage at 0x134a99e10>"
      ]
     },
     "execution_count": 10,
     "metadata": {},
     "output_type": "execute_result"
    },
    {
     "data": {
      "image/png": "[encoded data removed]",
      "text/plain": [
       "<Figure size 432x288 with 1 Axes>"
      ]
     },
     "metadata": {
      "needs_background": "light"
     },
     "output_type": "display_data"
    }
   ],
   "source": [
    "pixels = test_0[0]\n",
    "pixels = pixels.reshape((28,28))\n",
    "plt.imshow(pixels)"
   ]
  },
  {
   "cell_type": "code",
   "execution_count": 11,
   "metadata": {},
   "outputs": [
    {
     "data": {
      "text/plain": [
       "<matplotlib.image.AxesImage at 0x1348ffb50>"
      ]
     },
     "execution_count": 11,
     "metadata": {},
     "output_type": "execute_result"
    },
    {
     "data": {
      "image/png": "[encoded data removed]",
      "text/plain": [
       "<Figure size 432x288 with 1 Axes>"
      ]
     },
     "metadata": {
      "needs_background": "light"
     },
     "output_type": "display_data"
    }
   ],
   "source": [
    "pixels = test_1[0]\n",
    "pixels = pixels.reshape((28,28))\n",
    "plt.imshow(pixels)"
   ]
  },
  {
   "cell_type": "markdown",
   "metadata": {},
   "source": [
    "## Dimensionality Reduction\n",
    "Try PCA + TSNE\n",
    "\n",
    "### Apply PCA"
   ]
  },
  {
   "cell_type": "code",
   "execution_count": 12,
   "metadata": {},
   "outputs": [
    {
     "name": "stdout",
     "output_type": "stream",
     "text": [
      "(12665, 784)\n"
     ]
    },
    {
     "data": {
      "text/plain": [
       "<matplotlib.collections.PathCollection at 0x134c51210>"
      ]
     },
     "execution_count": 12,
     "metadata": {},
     "output_type": "execute_result"
    },
    {
     "data": {
      "image/png": "[encoded data removed]",
      "text/plain": [
       "<Figure size 432x288 with 1 Axes>"
      ]
     },
     "metadata": {
      "needs_background": "light"
     },
     "output_type": "display_data"
    }
   ],
   "source": [
    "train_all = np.array(train_0 + train_1)\n",
    "test_all = np.array(test_0 + test_1)\n",
    "\n",
    "print(train_all.shape)\n",
    "\n",
    "# Scale images\n",
    "scaler = StandardScaler()\n",
    "scaler.fit(train_all)\n",
    "train_all = scaler.transform(train_all)\n",
    "test_all = scaler.transform(test_all)\n",
    "\n",
    "# Apply pca\n",
    "pca = PCA(n_components=50)\n",
    "pca.fit(train_all)\n",
    "train_all = pca.transform(train_all)\n",
    "test_all = pca.transform(test_all)\n",
    "\n",
    "plt.scatter(\n",
    "    train_all[:, 0], train_all[:, 1], cmap=plt.get_cmap('Spectral'))\n"
   ]
  },
  {
   "cell_type": "markdown",
   "metadata": {},
   "source": [
    "### Apply T SNE\n",
    "This is quite costly. We'll avoid using it for the QSVM. It looks like T SNE applied on a raw dataset doesn't really separate information that well."
   ]
  },
  {
   "cell_type": "code",
   "execution_count": 17,
   "metadata": {},
   "outputs": [],
   "source": [
    "train_tsne = TSNE(n_components=2, perplexity=5).fit_transform(train_all)"
   ]
  },
  {
   "cell_type": "code",
   "execution_count": 22,
   "metadata": {},
   "outputs": [
    {
     "name": "stdout",
     "output_type": "stream",
     "text": [
      "[ 88.1336    23.28286   72.23721  ... -39.59728   -6.562564 -61.57312 ]\n",
      "[ 39.23274   -54.114407  -17.357641  ...  11.168255   47.172367\n",
      "  -3.1950028]\n"
     ]
    },
    {
     "data": {
      "text/plain": [
       "<matplotlib.collections.PathCollection at 0x1361cee10>"
      ]
     },
     "execution_count": 22,
     "metadata": {},
     "output_type": "execute_result"
    },
    {
     "data": {
      "image/png": "[encoded data removed]",
      "text/plain": [
       "<Figure size 432x288 with 1 Axes>"
      ]
     },
     "metadata": {
      "needs_background": "light"
     },
     "output_type": "display_data"
    }
   ],
   "source": [
    "# x, y = np.hsplit(train_tsne, 2)\n",
    "# x = x.reshape((12665))\n",
    "# y = y.reshape((12665))\n",
    "# print(x)\n",
    "# print(y)\n",
    "# plt.scatter(x, y, cmap=plt.get_cmap('Spectral'))\n",
    "# vectors = train_tsne[np.array([item for item in train_label])]\n",
    "\n",
    "print(train_tsne[:, 0])\n",
    "print(train_tsne[:, 1])\n",
    "    \n",
    "fig, ax = plt.subplots()\n",
    "\n",
    "# print(train_label)\n",
    "# for i in len(train_label):\n",
    "#     if i == 100:\n",
    "#         break\n",
    "#     else:\n",
    "#         ax.scatter(x, y, c=color, s=scale, label=color,\n",
    "#                alpha=0.3, edgecolors='none')\n",
    "\n",
    "plt.scatter(\n",
    "    train_tsne[:, 0], train_tsne[:, 1], cmap=plt.get_cmap('Spectral'))\n",
    "\n"
   ]
  },
  {
   "cell_type": "markdown",
   "metadata": {},
   "source": [
    "# Quantum Circuit For Classification\n",
    "\n",
    "## Quantum SVM Study\n",
    "Due to time taken to run the training we have to use a very small subset of the dataset. We are losing alot of information. We'll be very happy if this can perform better than random. The dataset is small so this can be just luck, but it's indicative of the general challenges the current Quantum Machine Learning approaches face without availability of QRAM.\n",
    "\n",
    "We have to simulate this on a macbook instead of using the actual quantum computer because we will submit many jobs on the ibm server and this will take a lot time and also starve other users of server time."
   ]
  },
  {
   "cell_type": "code",
   "execution_count": 31,
   "metadata": {},
   "outputs": [],
   "source": [
    "train_0_new = np.array(train_0)\n",
    "train_1_new = np.array(train_1)\n",
    "\n",
    "test_0_new = np.array(test_0)\n",
    "test_1_new = np.array(test_1)\n",
    "\n",
    "# Scale images\n",
    "scaler = StandardScaler()\n",
    "scaler.fit(train_0_new)\n",
    "train_0_new = scaler.transform(train_0_new)\n",
    "train_1_new = scaler.transform(train_1_new)\n",
    "test_0_new = scaler.transform(test_0_new)\n",
    "test_1_new = scaler.transform(test_1_new)"
   ]
  },
  {
   "cell_type": "code",
   "execution_count": 32,
   "metadata": {},
   "outputs": [],
   "source": [
    "from qiskit.aqua.algorithms import QSVM\n",
    "from qiskit.aqua.components.feature_maps import SecondOrderExpansion\n",
    "from qiskit.aqua.utils import split_dataset_to_data_and_labels, map_label_to_class_name\n",
    "from qiskit.aqua import run_algorithm, QuantumInstance"
   ]
  },
  {
   "cell_type": "markdown",
   "metadata": {},
   "source": [
    "### Experiment \n",
    "#### Prematurely Stopped at n_components: 4, n_depth: 5\n",
    "#### Best results considering time, at n_components: 3, n_depth: 3\n",
    "\n",
    "#### Results (Accuracy)\n",
    "| n_components/ n_depth       | 2       | 3     | 4    | 5    |\n",
    "| --------------------------- | ------- | ----- |------|------|\n",
    "| 2                           | 0.6     | 0.5   | 0.25 |0.55  |\n",
    "| 3                           |         | 0.65  | 0.45 | 0.4  |\n",
    "| 4                           |         |       | 0.6  | 0.65 |"
   ]
  },
  {
   "cell_type": "code",
   "execution_count": 67,
   "metadata": {},
   "outputs": [
    {
     "data": {
      "image/png": "[encoded data removed]",
      "text/plain": [
       "<Figure size 432x288 with 1 Axes>"
      ]
     },
     "metadata": {
      "needs_background": "light"
     },
     "output_type": "display_data"
    }
   ],
   "source": [
    "n_2 = [0.6, 0.5, 0.25, 0.55]\n",
    "n_3 = [0, 0.65, 0.45, 0.4]\n",
    "n_4 = [0, 0, 0.6, 0.65]\n",
    "n = [n_2, n_3, n_4]\n",
    "\n",
    "\n",
    "data_array = np.array(n)\n",
    "\n",
    "\n",
    "fig = plt.figure()\n",
    "ax = fig.add_subplot(111, projection='3d')\n",
    "\n",
    "x_data, y_data = np.meshgrid( np.arange(data_array.shape[1]),\n",
    "                              np.arange(data_array.shape[0]) )\n",
    "\n",
    "\n",
    "x_data = x_data.flatten()\n",
    "y_data = y_data.flatten()\n",
    "z_data = data_array.flatten()\n",
    "ax.bar3d( x_data,\n",
    "          y_data,\n",
    "          np.zeros(len(z_data)),\n",
    "          1, 1, z_data )\n",
    "\n",
    "plt.show()"
   ]
  },
  {
   "cell_type": "code",
   "execution_count": 59,
   "metadata": {},
   "outputs": [
    {
     "ename": "KeyboardInterrupt",
     "evalue": "",
     "output_type": "error",
     "traceback": [
      "\u001b[0;31m---------------------------------------------------------------------------\u001b[0m",
      "\u001b[0;31mKeyboardInterrupt\u001b[0m                         Traceback (most recent call last)",
      "\u001b[0;32m<ipython-input-59-931754eeee3d>\u001b[0m in \u001b[0;36m<module>\u001b[0;34m\u001b[0m\n\u001b[1;32m     45\u001b[0m         \u001b[0msvm\u001b[0m\u001b[0;34m.\u001b[0m\u001b[0mrandom_seed\u001b[0m \u001b[0;34m=\u001b[0m \u001b[0mrandom_seed\u001b[0m\u001b[0;34m\u001b[0m\u001b[0;34m\u001b[0m\u001b[0m\n\u001b[1;32m     46\u001b[0m         \u001b[0mquantum_instance\u001b[0m \u001b[0;34m=\u001b[0m \u001b[0mQuantumInstance\u001b[0m\u001b[0;34m(\u001b[0m\u001b[0mbackend\u001b[0m\u001b[0;34m,\u001b[0m \u001b[0mshots\u001b[0m\u001b[0;34m=\u001b[0m\u001b[0mshots\u001b[0m\u001b[0;34m)\u001b[0m\u001b[0;34m\u001b[0m\u001b[0;34m\u001b[0m\u001b[0m\n\u001b[0;32m---> 47\u001b[0;31m         \u001b[0mresult\u001b[0m \u001b[0;34m=\u001b[0m \u001b[0msvm\u001b[0m\u001b[0;34m.\u001b[0m\u001b[0mrun\u001b[0m\u001b[0;34m(\u001b[0m\u001b[0mquantum_instance\u001b[0m\u001b[0;34m)\u001b[0m\u001b[0;34m\u001b[0m\u001b[0;34m\u001b[0m\u001b[0m\n\u001b[0m\u001b[1;32m     48\u001b[0m \u001b[0;34m\u001b[0m\u001b[0m\n\u001b[1;32m     49\u001b[0m         \u001b[0mprint\u001b[0m\u001b[0;34m(\u001b[0m\u001b[0;34m\"n_components: {}, n_depth: {}\"\u001b[0m\u001b[0;34m.\u001b[0m\u001b[0mformat\u001b[0m\u001b[0;34m(\u001b[0m\u001b[0mn_components\u001b[0m\u001b[0;34m,\u001b[0m \u001b[0mn_depth\u001b[0m\u001b[0;34m)\u001b[0m\u001b[0;34m)\u001b[0m\u001b[0;34m\u001b[0m\u001b[0;34m\u001b[0m\u001b[0m\n",
      "\u001b[0;32m~/miniconda3/envs/quantum/lib/python3.7/site-packages/qiskit/aqua/algorithms/quantum_algorithm.py\u001b[0m in \u001b[0;36mrun\u001b[0;34m(self, quantum_instance, **kwargs)\u001b[0m\n\u001b[1;32m     63\u001b[0m                 \u001b[0mquantum_instance\u001b[0m\u001b[0;34m.\u001b[0m\u001b[0mset_config\u001b[0m\u001b[0;34m(\u001b[0m\u001b[0;34m**\u001b[0m\u001b[0mkwargs\u001b[0m\u001b[0;34m)\u001b[0m\u001b[0;34m\u001b[0m\u001b[0;34m\u001b[0m\u001b[0m\n\u001b[1;32m     64\u001b[0m             \u001b[0mself\u001b[0m\u001b[0;34m.\u001b[0m\u001b[0m_quantum_instance\u001b[0m \u001b[0;34m=\u001b[0m \u001b[0mquantum_instance\u001b[0m\u001b[0;34m\u001b[0m\u001b[0;34m\u001b[0m\u001b[0m\n\u001b[0;32m---> 65\u001b[0;31m         \u001b[0;32mreturn\u001b[0m \u001b[0mself\u001b[0m\u001b[0;34m.\u001b[0m\u001b[0m_run\u001b[0m\u001b[0;34m(\u001b[0m\u001b[0;34m)\u001b[0m\u001b[0;34m\u001b[0m\u001b[0;34m\u001b[0m\u001b[0m\n\u001b[0m\u001b[1;32m     66\u001b[0m \u001b[0;34m\u001b[0m\u001b[0m\n\u001b[1;32m     67\u001b[0m     \u001b[0;34m@\u001b[0m\u001b[0mabstractmethod\u001b[0m\u001b[0;34m\u001b[0m\u001b[0;34m\u001b[0m\u001b[0m\n",
      "\u001b[0;32m~/miniconda3/envs/quantum/lib/python3.7/site-packages/qiskit/aqua/algorithms/many_sample/qsvm/qsvm.py\u001b[0m in \u001b[0;36m_run\u001b[0;34m(self)\u001b[0m\n\u001b[1;32m    394\u001b[0m \u001b[0;34m\u001b[0m\u001b[0m\n\u001b[1;32m    395\u001b[0m     \u001b[0;32mdef\u001b[0m \u001b[0m_run\u001b[0m\u001b[0;34m(\u001b[0m\u001b[0mself\u001b[0m\u001b[0;34m)\u001b[0m\u001b[0;34m:\u001b[0m\u001b[0;34m\u001b[0m\u001b[0;34m\u001b[0m\u001b[0m\n\u001b[0;32m--> 396\u001b[0;31m         \u001b[0;32mreturn\u001b[0m \u001b[0mself\u001b[0m\u001b[0;34m.\u001b[0m\u001b[0minstance\u001b[0m\u001b[0;34m.\u001b[0m\u001b[0mrun\u001b[0m\u001b[0;34m(\u001b[0m\u001b[0;34m)\u001b[0m\u001b[0;34m\u001b[0m\u001b[0;34m\u001b[0m\u001b[0m\n\u001b[0m\u001b[1;32m    397\u001b[0m \u001b[0;34m\u001b[0m\u001b[0m\n\u001b[1;32m    398\u001b[0m     \u001b[0;34m@\u001b[0m\u001b[0mproperty\u001b[0m\u001b[0;34m\u001b[0m\u001b[0;34m\u001b[0m\u001b[0m\n",
      "\u001b[0;32m~/miniconda3/envs/quantum/lib/python3.7/site-packages/qiskit/aqua/algorithms/many_sample/qsvm/_qsvm_binary.py\u001b[0m in \u001b[0;36mrun\u001b[0;34m(self)\u001b[0m\n\u001b[1;32m    129\u001b[0m         \u001b[0mself\u001b[0m\u001b[0;34m.\u001b[0m\u001b[0mtrain\u001b[0m\u001b[0;34m(\u001b[0m\u001b[0mself\u001b[0m\u001b[0;34m.\u001b[0m\u001b[0m_qalgo\u001b[0m\u001b[0;34m.\u001b[0m\u001b[0mtraining_dataset\u001b[0m\u001b[0;34m[\u001b[0m\u001b[0;36m0\u001b[0m\u001b[0;34m]\u001b[0m\u001b[0;34m,\u001b[0m \u001b[0mself\u001b[0m\u001b[0;34m.\u001b[0m\u001b[0m_qalgo\u001b[0m\u001b[0;34m.\u001b[0m\u001b[0mtraining_dataset\u001b[0m\u001b[0;34m[\u001b[0m\u001b[0;36m1\u001b[0m\u001b[0;34m]\u001b[0m\u001b[0;34m)\u001b[0m\u001b[0;34m\u001b[0m\u001b[0;34m\u001b[0m\u001b[0m\n\u001b[1;32m    130\u001b[0m         \u001b[0;32mif\u001b[0m \u001b[0mself\u001b[0m\u001b[0;34m.\u001b[0m\u001b[0m_qalgo\u001b[0m\u001b[0;34m.\u001b[0m\u001b[0mtest_dataset\u001b[0m \u001b[0;32mis\u001b[0m \u001b[0;32mnot\u001b[0m \u001b[0;32mNone\u001b[0m\u001b[0;34m:\u001b[0m\u001b[0;34m\u001b[0m\u001b[0;34m\u001b[0m\u001b[0m\n\u001b[0;32m--> 131\u001b[0;31m             \u001b[0mself\u001b[0m\u001b[0;34m.\u001b[0m\u001b[0mtest\u001b[0m\u001b[0;34m(\u001b[0m\u001b[0mself\u001b[0m\u001b[0;34m.\u001b[0m\u001b[0m_qalgo\u001b[0m\u001b[0;34m.\u001b[0m\u001b[0mtest_dataset\u001b[0m\u001b[0;34m[\u001b[0m\u001b[0;36m0\u001b[0m\u001b[0;34m]\u001b[0m\u001b[0;34m,\u001b[0m \u001b[0mself\u001b[0m\u001b[0;34m.\u001b[0m\u001b[0m_qalgo\u001b[0m\u001b[0;34m.\u001b[0m\u001b[0mtest_dataset\u001b[0m\u001b[0;34m[\u001b[0m\u001b[0;36m1\u001b[0m\u001b[0;34m]\u001b[0m\u001b[0;34m)\u001b[0m\u001b[0;34m\u001b[0m\u001b[0;34m\u001b[0m\u001b[0m\n\u001b[0m\u001b[1;32m    132\u001b[0m         \u001b[0;32mif\u001b[0m \u001b[0mself\u001b[0m\u001b[0;34m.\u001b[0m\u001b[0m_qalgo\u001b[0m\u001b[0;34m.\u001b[0m\u001b[0mdatapoints\u001b[0m \u001b[0;32mis\u001b[0m \u001b[0;32mnot\u001b[0m \u001b[0;32mNone\u001b[0m\u001b[0;34m:\u001b[0m\u001b[0;34m\u001b[0m\u001b[0;34m\u001b[0m\u001b[0m\n\u001b[1;32m    133\u001b[0m             \u001b[0mpredicted_labels\u001b[0m \u001b[0;34m=\u001b[0m \u001b[0mself\u001b[0m\u001b[0;34m.\u001b[0m\u001b[0mpredict\u001b[0m\u001b[0;34m(\u001b[0m\u001b[0mself\u001b[0m\u001b[0;34m.\u001b[0m\u001b[0m_qalgo\u001b[0m\u001b[0;34m.\u001b[0m\u001b[0mdatapoints\u001b[0m\u001b[0;34m)\u001b[0m\u001b[0;34m\u001b[0m\u001b[0;34m\u001b[0m\u001b[0m\n",
      "\u001b[0;32m~/miniconda3/envs/quantum/lib/python3.7/site-packages/qiskit/aqua/algorithms/many_sample/qsvm/_qsvm_binary.py\u001b[0m in \u001b[0;36mtest\u001b[0;34m(self, data, labels)\u001b[0m\n\u001b[1;32m     99\u001b[0m             \u001b[0mfloat\u001b[0m\u001b[0;34m:\u001b[0m \u001b[0maccuracy\u001b[0m\u001b[0;34m\u001b[0m\u001b[0;34m\u001b[0m\u001b[0m\n\u001b[1;32m    100\u001b[0m         \"\"\"\n\u001b[0;32m--> 101\u001b[0;31m         \u001b[0mpredicted_confidence\u001b[0m\u001b[0;34m,\u001b[0m \u001b[0mkernel_matrix\u001b[0m \u001b[0;34m=\u001b[0m \u001b[0mself\u001b[0m\u001b[0;34m.\u001b[0m\u001b[0mget_predicted_confidence\u001b[0m\u001b[0;34m(\u001b[0m\u001b[0mdata\u001b[0m\u001b[0;34m,\u001b[0m \u001b[0;32mTrue\u001b[0m\u001b[0;34m)\u001b[0m\u001b[0;34m\u001b[0m\u001b[0;34m\u001b[0m\u001b[0m\n\u001b[0m\u001b[1;32m    102\u001b[0m         \u001b[0mbinarized_predictions\u001b[0m \u001b[0;34m=\u001b[0m \u001b[0;34m(\u001b[0m\u001b[0mnp\u001b[0m\u001b[0;34m.\u001b[0m\u001b[0msign\u001b[0m\u001b[0;34m(\u001b[0m\u001b[0mpredicted_confidence\u001b[0m\u001b[0;34m)\u001b[0m \u001b[0;34m+\u001b[0m \u001b[0;36m1\u001b[0m\u001b[0;34m)\u001b[0m \u001b[0;34m/\u001b[0m \u001b[0;36m2\u001b[0m  \u001b[0;31m# remap -1 --> 0, 1 --> 1\u001b[0m\u001b[0;34m\u001b[0m\u001b[0;34m\u001b[0m\u001b[0m\n\u001b[1;32m    103\u001b[0m         \u001b[0mpredicted_labels\u001b[0m \u001b[0;34m=\u001b[0m \u001b[0mbinarized_predictions\u001b[0m\u001b[0;34m.\u001b[0m\u001b[0mastype\u001b[0m\u001b[0;34m(\u001b[0m\u001b[0mint\u001b[0m\u001b[0;34m)\u001b[0m\u001b[0;34m\u001b[0m\u001b[0;34m\u001b[0m\u001b[0m\n",
      "\u001b[0;32m~/miniconda3/envs/quantum/lib/python3.7/site-packages/qiskit/aqua/algorithms/many_sample/qsvm/_qsvm_binary.py\u001b[0m in \u001b[0;36mget_predicted_confidence\u001b[0;34m(self, data, return_kernel_matrix)\u001b[0m\n\u001b[1;32m     52\u001b[0m         \u001b[0msvms\u001b[0m \u001b[0;34m=\u001b[0m \u001b[0mself\u001b[0m\u001b[0;34m.\u001b[0m\u001b[0m_ret\u001b[0m\u001b[0;34m[\u001b[0m\u001b[0;34m'svm'\u001b[0m\u001b[0;34m]\u001b[0m\u001b[0;34m[\u001b[0m\u001b[0;34m'support_vectors'\u001b[0m\u001b[0;34m]\u001b[0m\u001b[0;34m\u001b[0m\u001b[0;34m\u001b[0m\u001b[0m\n\u001b[1;32m     53\u001b[0m         \u001b[0myin\u001b[0m \u001b[0;34m=\u001b[0m \u001b[0mself\u001b[0m\u001b[0;34m.\u001b[0m\u001b[0m_ret\u001b[0m\u001b[0;34m[\u001b[0m\u001b[0;34m'svm'\u001b[0m\u001b[0;34m]\u001b[0m\u001b[0;34m[\u001b[0m\u001b[0;34m'yin'\u001b[0m\u001b[0;34m]\u001b[0m\u001b[0;34m\u001b[0m\u001b[0;34m\u001b[0m\u001b[0m\n\u001b[0;32m---> 54\u001b[0;31m         \u001b[0mkernel_matrix\u001b[0m \u001b[0;34m=\u001b[0m \u001b[0mself\u001b[0m\u001b[0;34m.\u001b[0m\u001b[0m_qalgo\u001b[0m\u001b[0;34m.\u001b[0m\u001b[0mconstruct_kernel_matrix\u001b[0m\u001b[0;34m(\u001b[0m\u001b[0mdata\u001b[0m\u001b[0;34m,\u001b[0m \u001b[0msvms\u001b[0m\u001b[0;34m)\u001b[0m\u001b[0;34m\u001b[0m\u001b[0;34m\u001b[0m\u001b[0m\n\u001b[0m\u001b[1;32m     55\u001b[0m \u001b[0;34m\u001b[0m\u001b[0m\n\u001b[1;32m     56\u001b[0m         \u001b[0mconfidence\u001b[0m \u001b[0;34m=\u001b[0m \u001b[0mnp\u001b[0m\u001b[0;34m.\u001b[0m\u001b[0msum\u001b[0m\u001b[0;34m(\u001b[0m\u001b[0myin\u001b[0m \u001b[0;34m*\u001b[0m \u001b[0malphas\u001b[0m \u001b[0;34m*\u001b[0m \u001b[0mkernel_matrix\u001b[0m\u001b[0;34m,\u001b[0m \u001b[0maxis\u001b[0m\u001b[0;34m=\u001b[0m\u001b[0;36m1\u001b[0m\u001b[0;34m)\u001b[0m \u001b[0;34m+\u001b[0m \u001b[0mbias\u001b[0m\u001b[0;34m\u001b[0m\u001b[0;34m\u001b[0m\u001b[0m\n",
      "\u001b[0;32m~/miniconda3/envs/quantum/lib/python3.7/site-packages/qiskit/aqua/algorithms/many_sample/qsvm/qsvm.py\u001b[0m in \u001b[0;36mconstruct_kernel_matrix\u001b[0;34m(self, x1_vec, x2_vec, quantum_instance)\u001b[0m\n\u001b[1;32m    328\u001b[0m             \u001b[0;32mraise\u001b[0m \u001b[0mAquaError\u001b[0m\u001b[0;34m(\u001b[0m\u001b[0;34m\"Either setup quantum instance or provide it in the parameter.\"\u001b[0m\u001b[0;34m)\u001b[0m\u001b[0;34m\u001b[0m\u001b[0;34m\u001b[0m\u001b[0m\n\u001b[1;32m    329\u001b[0m \u001b[0;34m\u001b[0m\u001b[0m\n\u001b[0;32m--> 330\u001b[0;31m         \u001b[0;32mreturn\u001b[0m \u001b[0mQSVM\u001b[0m\u001b[0;34m.\u001b[0m\u001b[0mget_kernel_matrix\u001b[0m\u001b[0;34m(\u001b[0m\u001b[0mself\u001b[0m\u001b[0;34m.\u001b[0m\u001b[0m_quantum_instance\u001b[0m\u001b[0;34m,\u001b[0m \u001b[0mself\u001b[0m\u001b[0;34m.\u001b[0m\u001b[0mfeature_map\u001b[0m\u001b[0;34m,\u001b[0m \u001b[0mx1_vec\u001b[0m\u001b[0;34m,\u001b[0m \u001b[0mx2_vec\u001b[0m\u001b[0;34m)\u001b[0m\u001b[0;34m\u001b[0m\u001b[0;34m\u001b[0m\u001b[0m\n\u001b[0m\u001b[1;32m    331\u001b[0m \u001b[0;34m\u001b[0m\u001b[0m\n\u001b[1;32m    332\u001b[0m     \u001b[0;32mdef\u001b[0m \u001b[0mtrain\u001b[0m\u001b[0;34m(\u001b[0m\u001b[0mself\u001b[0m\u001b[0;34m,\u001b[0m \u001b[0mdata\u001b[0m\u001b[0;34m,\u001b[0m \u001b[0mlabels\u001b[0m\u001b[0;34m,\u001b[0m \u001b[0mquantum_instance\u001b[0m\u001b[0;34m=\u001b[0m\u001b[0;32mNone\u001b[0m\u001b[0;34m)\u001b[0m\u001b[0;34m:\u001b[0m\u001b[0;34m\u001b[0m\u001b[0;34m\u001b[0m\u001b[0m\n",
      "\u001b[0;32m~/miniconda3/envs/quantum/lib/python3.7/site-packages/qiskit/aqua/algorithms/many_sample/qsvm/qsvm.py\u001b[0m in \u001b[0;36mget_kernel_matrix\u001b[0;34m(quantum_instance, feature_map, x1_vec, x2_vec)\u001b[0m\n\u001b[1;32m    282\u001b[0m                                         \u001b[0mto_be_computed_data_pair\u001b[0m\u001b[0;34m,\u001b[0m\u001b[0;34m\u001b[0m\u001b[0;34m\u001b[0m\u001b[0m\n\u001b[1;32m    283\u001b[0m                                         \u001b[0mtask_args\u001b[0m\u001b[0;34m=\u001b[0m\u001b[0;34m(\u001b[0m\u001b[0mfeature_map\u001b[0m\u001b[0;34m,\u001b[0m \u001b[0mmeasurement\u001b[0m\u001b[0;34m)\u001b[0m\u001b[0;34m,\u001b[0m\u001b[0;34m\u001b[0m\u001b[0;34m\u001b[0m\u001b[0m\n\u001b[0;32m--> 284\u001b[0;31m                                         num_processes=aqua_globals.num_processes)\n\u001b[0m\u001b[1;32m    285\u001b[0m \u001b[0;34m\u001b[0m\u001b[0m\n\u001b[1;32m    286\u001b[0m                 \u001b[0mresults\u001b[0m \u001b[0;34m=\u001b[0m \u001b[0mquantum_instance\u001b[0m\u001b[0;34m.\u001b[0m\u001b[0mexecute\u001b[0m\u001b[0;34m(\u001b[0m\u001b[0mcircuits\u001b[0m\u001b[0;34m)\u001b[0m\u001b[0;34m\u001b[0m\u001b[0;34m\u001b[0m\u001b[0m\n",
      "\u001b[0;32m~/miniconda3/envs/quantum/lib/python3.7/site-packages/qiskit/tools/parallel.py\u001b[0m in \u001b[0;36mparallel_map\u001b[0;34m(task, values, task_args, task_kwargs, num_processes)\u001b[0m\n\u001b[1;32m    143\u001b[0m     \u001b[0mresults\u001b[0m \u001b[0;34m=\u001b[0m \u001b[0;34m[\u001b[0m\u001b[0;34m]\u001b[0m\u001b[0;34m\u001b[0m\u001b[0;34m\u001b[0m\u001b[0m\n\u001b[1;32m    144\u001b[0m     \u001b[0;32mfor\u001b[0m \u001b[0m_\u001b[0m\u001b[0;34m,\u001b[0m \u001b[0mvalue\u001b[0m \u001b[0;32min\u001b[0m \u001b[0menumerate\u001b[0m\u001b[0;34m(\u001b[0m\u001b[0mvalues\u001b[0m\u001b[0;34m)\u001b[0m\u001b[0;34m:\u001b[0m\u001b[0;34m\u001b[0m\u001b[0;34m\u001b[0m\u001b[0m\n\u001b[0;32m--> 145\u001b[0;31m         \u001b[0mresult\u001b[0m \u001b[0;34m=\u001b[0m \u001b[0mtask\u001b[0m\u001b[0;34m(\u001b[0m\u001b[0mvalue\u001b[0m\u001b[0;34m,\u001b[0m \u001b[0;34m*\u001b[0m\u001b[0mtask_args\u001b[0m\u001b[0;34m,\u001b[0m \u001b[0;34m**\u001b[0m\u001b[0mtask_kwargs\u001b[0m\u001b[0;34m)\u001b[0m\u001b[0;34m\u001b[0m\u001b[0;34m\u001b[0m\u001b[0m\n\u001b[0m\u001b[1;32m    146\u001b[0m         \u001b[0mresults\u001b[0m\u001b[0;34m.\u001b[0m\u001b[0mappend\u001b[0m\u001b[0;34m(\u001b[0m\u001b[0mresult\u001b[0m\u001b[0;34m)\u001b[0m\u001b[0;34m\u001b[0m\u001b[0;34m\u001b[0m\u001b[0m\n\u001b[1;32m    147\u001b[0m         \u001b[0m_callback\u001b[0m\u001b[0;34m(\u001b[0m\u001b[0;36m0\u001b[0m\u001b[0;34m)\u001b[0m\u001b[0;34m\u001b[0m\u001b[0;34m\u001b[0m\u001b[0m\n",
      "\u001b[0;32m~/miniconda3/envs/quantum/lib/python3.7/site-packages/qiskit/aqua/algorithms/many_sample/qsvm/qsvm.py\u001b[0m in \u001b[0;36m_construct_circuit\u001b[0;34m(x, feature_map, measurement, is_statevector_sim)\u001b[0m\n\u001b[1;32m    154\u001b[0m         \u001b[0mqc\u001b[0m \u001b[0;34m+=\u001b[0m \u001b[0mfeature_map\u001b[0m\u001b[0;34m.\u001b[0m\u001b[0mconstruct_circuit\u001b[0m\u001b[0;34m(\u001b[0m\u001b[0mx1\u001b[0m\u001b[0;34m,\u001b[0m \u001b[0mq\u001b[0m\u001b[0;34m)\u001b[0m\u001b[0;34m\u001b[0m\u001b[0;34m\u001b[0m\u001b[0m\n\u001b[1;32m    155\u001b[0m         \u001b[0;32mif\u001b[0m \u001b[0;32mnot\u001b[0m \u001b[0mis_statevector_sim\u001b[0m\u001b[0;34m:\u001b[0m\u001b[0;34m\u001b[0m\u001b[0;34m\u001b[0m\u001b[0m\n\u001b[0;32m--> 156\u001b[0;31m             \u001b[0mqc\u001b[0m \u001b[0;34m+=\u001b[0m \u001b[0mfeature_map\u001b[0m\u001b[0;34m.\u001b[0m\u001b[0mconstruct_circuit\u001b[0m\u001b[0;34m(\u001b[0m\u001b[0mx2\u001b[0m\u001b[0;34m,\u001b[0m \u001b[0mq\u001b[0m\u001b[0;34m)\u001b[0m\u001b[0;34m.\u001b[0m\u001b[0minverse\u001b[0m\u001b[0;34m(\u001b[0m\u001b[0;34m)\u001b[0m\u001b[0;34m\u001b[0m\u001b[0;34m\u001b[0m\u001b[0m\n\u001b[0m\u001b[1;32m    157\u001b[0m             \u001b[0;32mif\u001b[0m \u001b[0mmeasurement\u001b[0m\u001b[0;34m:\u001b[0m\u001b[0;34m\u001b[0m\u001b[0;34m\u001b[0m\u001b[0m\n\u001b[1;32m    158\u001b[0m                 \u001b[0mqc\u001b[0m\u001b[0;34m.\u001b[0m\u001b[0mbarrier\u001b[0m\u001b[0;34m(\u001b[0m\u001b[0mq\u001b[0m\u001b[0;34m)\u001b[0m\u001b[0;34m\u001b[0m\u001b[0;34m\u001b[0m\u001b[0m\n",
      "\u001b[0;32m~/miniconda3/envs/quantum/lib/python3.7/site-packages/qiskit/aqua/components/feature_maps/pauli_expansion.py\u001b[0m in \u001b[0;36mconstruct_circuit\u001b[0;34m(self, x, qr, inverse)\u001b[0m\n\u001b[1;32m    172\u001b[0m                 \u001b[0minst\u001b[0m \u001b[0;34m=\u001b[0m \u001b[0mevolution_instruction\u001b[0m\u001b[0;34m(\u001b[0m\u001b[0;34m[\u001b[0m\u001b[0;34m[\u001b[0m\u001b[0mcoeff\u001b[0m\u001b[0;34m,\u001b[0m \u001b[0mp\u001b[0m\u001b[0;34m]\u001b[0m\u001b[0;34m]\u001b[0m\u001b[0;34m,\u001b[0m \u001b[0;36m1\u001b[0m\u001b[0;34m,\u001b[0m \u001b[0;36m1\u001b[0m\u001b[0;34m)\u001b[0m\u001b[0;34m\u001b[0m\u001b[0;34m\u001b[0m\u001b[0m\n\u001b[1;32m    173\u001b[0m                 \u001b[0mqc\u001b[0m\u001b[0;34m.\u001b[0m\u001b[0mappend\u001b[0m\u001b[0;34m(\u001b[0m\u001b[0minst\u001b[0m\u001b[0;34m,\u001b[0m \u001b[0mqr\u001b[0m\u001b[0;34m)\u001b[0m\u001b[0;34m\u001b[0m\u001b[0;34m\u001b[0m\u001b[0m\n\u001b[0;32m--> 174\u001b[0;31m                 \u001b[0mqc\u001b[0m \u001b[0;34m=\u001b[0m \u001b[0mqc\u001b[0m\u001b[0;34m.\u001b[0m\u001b[0mdecompose\u001b[0m\u001b[0;34m(\u001b[0m\u001b[0;34m)\u001b[0m\u001b[0;34m\u001b[0m\u001b[0;34m\u001b[0m\u001b[0m\n\u001b[0m\u001b[1;32m    175\u001b[0m         \u001b[0;32mif\u001b[0m \u001b[0minverse\u001b[0m \u001b[0;32mis\u001b[0m \u001b[0;32mnot\u001b[0m \u001b[0;32mNone\u001b[0m \u001b[0;32mand\u001b[0m \u001b[0minverse\u001b[0m\u001b[0;34m:\u001b[0m\u001b[0;34m\u001b[0m\u001b[0;34m\u001b[0m\u001b[0m\n\u001b[1;32m    176\u001b[0m             \u001b[0mqc\u001b[0m \u001b[0;34m=\u001b[0m \u001b[0mqc\u001b[0m\u001b[0;34m.\u001b[0m\u001b[0minverse\u001b[0m\u001b[0;34m(\u001b[0m\u001b[0;34m)\u001b[0m\u001b[0;34m\u001b[0m\u001b[0;34m\u001b[0m\u001b[0m\n",
      "\u001b[0;32m~/miniconda3/envs/quantum/lib/python3.7/site-packages/qiskit/circuit/quantumcircuit.py\u001b[0m in \u001b[0;36mdecompose\u001b[0;34m(self)\u001b[0m\n\u001b[1;32m    497\u001b[0m         \u001b[0mpass_\u001b[0m \u001b[0;34m=\u001b[0m \u001b[0mDecompose\u001b[0m\u001b[0;34m(\u001b[0m\u001b[0;34m)\u001b[0m\u001b[0;34m\u001b[0m\u001b[0;34m\u001b[0m\u001b[0m\n\u001b[1;32m    498\u001b[0m         \u001b[0mdecomposed_dag\u001b[0m \u001b[0;34m=\u001b[0m \u001b[0mpass_\u001b[0m\u001b[0;34m.\u001b[0m\u001b[0mrun\u001b[0m\u001b[0;34m(\u001b[0m\u001b[0mcircuit_to_dag\u001b[0m\u001b[0;34m(\u001b[0m\u001b[0mself\u001b[0m\u001b[0;34m)\u001b[0m\u001b[0;34m)\u001b[0m\u001b[0;34m\u001b[0m\u001b[0;34m\u001b[0m\u001b[0m\n\u001b[0;32m--> 499\u001b[0;31m         \u001b[0;32mreturn\u001b[0m \u001b[0mdag_to_circuit\u001b[0m\u001b[0;34m(\u001b[0m\u001b[0mdecomposed_dag\u001b[0m\u001b[0;34m)\u001b[0m\u001b[0;34m\u001b[0m\u001b[0;34m\u001b[0m\u001b[0m\n\u001b[0m\u001b[1;32m    500\u001b[0m \u001b[0;34m\u001b[0m\u001b[0m\n\u001b[1;32m    501\u001b[0m     \u001b[0;32mdef\u001b[0m \u001b[0m_check_compatible_regs\u001b[0m\u001b[0;34m(\u001b[0m\u001b[0mself\u001b[0m\u001b[0;34m,\u001b[0m \u001b[0mrhs\u001b[0m\u001b[0;34m)\u001b[0m\u001b[0;34m:\u001b[0m\u001b[0;34m\u001b[0m\u001b[0;34m\u001b[0m\u001b[0m\n",
      "\u001b[0;32m~/miniconda3/envs/quantum/lib/python3.7/site-packages/qiskit/converters/dag_to_circuit.py\u001b[0m in \u001b[0;36mdag_to_circuit\u001b[0;34m(dag)\u001b[0m\n\u001b[1;32m     54\u001b[0m         \u001b[0minst\u001b[0m \u001b[0;34m=\u001b[0m \u001b[0mnode\u001b[0m\u001b[0;34m.\u001b[0m\u001b[0mop\u001b[0m\u001b[0;34m.\u001b[0m\u001b[0mcopy\u001b[0m\u001b[0;34m(\u001b[0m\u001b[0;34m)\u001b[0m\u001b[0;34m\u001b[0m\u001b[0;34m\u001b[0m\u001b[0m\n\u001b[1;32m     55\u001b[0m         \u001b[0minst\u001b[0m\u001b[0;34m.\u001b[0m\u001b[0mcontrol\u001b[0m \u001b[0;34m=\u001b[0m \u001b[0mnode\u001b[0m\u001b[0;34m.\u001b[0m\u001b[0mcondition\u001b[0m\u001b[0;34m\u001b[0m\u001b[0;34m\u001b[0m\u001b[0m\n\u001b[0;32m---> 56\u001b[0;31m         \u001b[0mcircuit\u001b[0m\u001b[0;34m.\u001b[0m\u001b[0mappend\u001b[0m\u001b[0;34m(\u001b[0m\u001b[0minst\u001b[0m\u001b[0;34m,\u001b[0m \u001b[0mqubits\u001b[0m\u001b[0;34m,\u001b[0m \u001b[0mclbits\u001b[0m\u001b[0;34m)\u001b[0m\u001b[0;34m\u001b[0m\u001b[0;34m\u001b[0m\u001b[0m\n\u001b[0m\u001b[1;32m     57\u001b[0m     \u001b[0;32mreturn\u001b[0m \u001b[0mcircuit\u001b[0m\u001b[0;34m\u001b[0m\u001b[0;34m\u001b[0m\u001b[0m\n",
      "\u001b[0;32m~/miniconda3/envs/quantum/lib/python3.7/site-packages/qiskit/circuit/quantumcircuit.py\u001b[0m in \u001b[0;36mappend\u001b[0;34m(self, instruction, qargs, cargs)\u001b[0m\n\u001b[1;32m    352\u001b[0m             \u001b[0minstruction\u001b[0m \u001b[0;34m=\u001b[0m \u001b[0minstruction\u001b[0m\u001b[0;34m.\u001b[0m\u001b[0mto_instruction\u001b[0m\u001b[0;34m(\u001b[0m\u001b[0;34m)\u001b[0m\u001b[0;34m\u001b[0m\u001b[0;34m\u001b[0m\u001b[0m\n\u001b[1;32m    353\u001b[0m \u001b[0;34m\u001b[0m\u001b[0m\n\u001b[0;32m--> 354\u001b[0;31m         \u001b[0mexpanded_qargs\u001b[0m \u001b[0;34m=\u001b[0m \u001b[0;34m[\u001b[0m\u001b[0mself\u001b[0m\u001b[0;34m.\u001b[0m\u001b[0mqbit_argument_conversion\u001b[0m\u001b[0;34m(\u001b[0m\u001b[0mqarg\u001b[0m\u001b[0;34m)\u001b[0m \u001b[0;32mfor\u001b[0m \u001b[0mqarg\u001b[0m \u001b[0;32min\u001b[0m \u001b[0mqargs\u001b[0m \u001b[0;32mor\u001b[0m \u001b[0;34m[\u001b[0m\u001b[0;34m]\u001b[0m\u001b[0;34m]\u001b[0m\u001b[0;34m\u001b[0m\u001b[0;34m\u001b[0m\u001b[0m\n\u001b[0m\u001b[1;32m    355\u001b[0m         \u001b[0mexpanded_cargs\u001b[0m \u001b[0;34m=\u001b[0m \u001b[0;34m[\u001b[0m\u001b[0mself\u001b[0m\u001b[0;34m.\u001b[0m\u001b[0mcbit_argument_conversion\u001b[0m\u001b[0;34m(\u001b[0m\u001b[0mcarg\u001b[0m\u001b[0;34m)\u001b[0m \u001b[0;32mfor\u001b[0m \u001b[0mcarg\u001b[0m \u001b[0;32min\u001b[0m \u001b[0mcargs\u001b[0m \u001b[0;32mor\u001b[0m \u001b[0;34m[\u001b[0m\u001b[0;34m]\u001b[0m\u001b[0;34m]\u001b[0m\u001b[0;34m\u001b[0m\u001b[0;34m\u001b[0m\u001b[0m\n\u001b[1;32m    356\u001b[0m \u001b[0;34m\u001b[0m\u001b[0m\n",
      "\u001b[0;32m~/miniconda3/envs/quantum/lib/python3.7/site-packages/qiskit/circuit/quantumcircuit.py\u001b[0m in \u001b[0;36m<listcomp>\u001b[0;34m(.0)\u001b[0m\n\u001b[1;32m    352\u001b[0m             \u001b[0minstruction\u001b[0m \u001b[0;34m=\u001b[0m \u001b[0minstruction\u001b[0m\u001b[0;34m.\u001b[0m\u001b[0mto_instruction\u001b[0m\u001b[0;34m(\u001b[0m\u001b[0;34m)\u001b[0m\u001b[0;34m\u001b[0m\u001b[0;34m\u001b[0m\u001b[0m\n\u001b[1;32m    353\u001b[0m \u001b[0;34m\u001b[0m\u001b[0m\n\u001b[0;32m--> 354\u001b[0;31m         \u001b[0mexpanded_qargs\u001b[0m \u001b[0;34m=\u001b[0m \u001b[0;34m[\u001b[0m\u001b[0mself\u001b[0m\u001b[0;34m.\u001b[0m\u001b[0mqbit_argument_conversion\u001b[0m\u001b[0;34m(\u001b[0m\u001b[0mqarg\u001b[0m\u001b[0;34m)\u001b[0m \u001b[0;32mfor\u001b[0m \u001b[0mqarg\u001b[0m \u001b[0;32min\u001b[0m \u001b[0mqargs\u001b[0m \u001b[0;32mor\u001b[0m \u001b[0;34m[\u001b[0m\u001b[0;34m]\u001b[0m\u001b[0;34m]\u001b[0m\u001b[0;34m\u001b[0m\u001b[0;34m\u001b[0m\u001b[0m\n\u001b[0m\u001b[1;32m    355\u001b[0m         \u001b[0mexpanded_cargs\u001b[0m \u001b[0;34m=\u001b[0m \u001b[0;34m[\u001b[0m\u001b[0mself\u001b[0m\u001b[0;34m.\u001b[0m\u001b[0mcbit_argument_conversion\u001b[0m\u001b[0;34m(\u001b[0m\u001b[0mcarg\u001b[0m\u001b[0;34m)\u001b[0m \u001b[0;32mfor\u001b[0m \u001b[0mcarg\u001b[0m \u001b[0;32min\u001b[0m \u001b[0mcargs\u001b[0m \u001b[0;32mor\u001b[0m \u001b[0;34m[\u001b[0m\u001b[0;34m]\u001b[0m\u001b[0;34m]\u001b[0m\u001b[0;34m\u001b[0m\u001b[0;34m\u001b[0m\u001b[0m\n\u001b[1;32m    356\u001b[0m \u001b[0;34m\u001b[0m\u001b[0m\n",
      "\u001b[0;32m~/miniconda3/envs/quantum/lib/python3.7/site-packages/qiskit/circuit/quantumcircuit.py\u001b[0m in \u001b[0;36mqbit_argument_conversion\u001b[0;34m(self, qubit_representation)\u001b[0m\n\u001b[1;32m    321\u001b[0m             \u001b[0mList\u001b[0m\u001b[0;34m(\u001b[0m\u001b[0mtuple\u001b[0m\u001b[0;34m)\u001b[0m\u001b[0;34m:\u001b[0m \u001b[0mWhere\u001b[0m \u001b[0meach\u001b[0m \u001b[0mtuple\u001b[0m \u001b[0;32mis\u001b[0m \u001b[0ma\u001b[0m \u001b[0mqubit\u001b[0m\u001b[0;34m.\u001b[0m\u001b[0;34m\u001b[0m\u001b[0;34m\u001b[0m\u001b[0m\n\u001b[1;32m    322\u001b[0m         \"\"\"\n\u001b[0;32m--> 323\u001b[0;31m         \u001b[0;32mreturn\u001b[0m \u001b[0mQuantumCircuit\u001b[0m\u001b[0;34m.\u001b[0m\u001b[0m_bit_argument_conversion\u001b[0m\u001b[0;34m(\u001b[0m\u001b[0mqubit_representation\u001b[0m\u001b[0;34m,\u001b[0m \u001b[0mself\u001b[0m\u001b[0;34m.\u001b[0m\u001b[0mqubits\u001b[0m\u001b[0;34m)\u001b[0m\u001b[0;34m\u001b[0m\u001b[0;34m\u001b[0m\u001b[0m\n\u001b[0m\u001b[1;32m    324\u001b[0m \u001b[0;34m\u001b[0m\u001b[0m\n\u001b[1;32m    325\u001b[0m     \u001b[0;32mdef\u001b[0m \u001b[0mcbit_argument_conversion\u001b[0m\u001b[0;34m(\u001b[0m\u001b[0mself\u001b[0m\u001b[0;34m,\u001b[0m \u001b[0mclbit_representation\u001b[0m\u001b[0;34m)\u001b[0m\u001b[0;34m:\u001b[0m\u001b[0;34m\u001b[0m\u001b[0;34m\u001b[0m\u001b[0m\n",
      "\u001b[0;32m~/miniconda3/envs/quantum/lib/python3.7/site-packages/qiskit/circuit/quantumcircuit.py\u001b[0m in \u001b[0;36mqubits\u001b[0;34m(self)\u001b[0m\n\u001b[1;32m    237\u001b[0m         \u001b[0mReturns\u001b[0m \u001b[0ma\u001b[0m \u001b[0mlist\u001b[0m \u001b[0mof\u001b[0m \u001b[0mquantum\u001b[0m \u001b[0mbits\u001b[0m \u001b[0;32min\u001b[0m \u001b[0mthe\u001b[0m \u001b[0morder\u001b[0m \u001b[0mthat\u001b[0m \u001b[0mthe\u001b[0m \u001b[0mregisters\u001b[0m \u001b[0mhad\u001b[0m \u001b[0mbeen\u001b[0m \u001b[0madded\u001b[0m\u001b[0;34m.\u001b[0m\u001b[0;34m\u001b[0m\u001b[0;34m\u001b[0m\u001b[0m\n\u001b[1;32m    238\u001b[0m         \"\"\"\n\u001b[0;32m--> 239\u001b[0;31m         \u001b[0;32mreturn\u001b[0m \u001b[0;34m[\u001b[0m\u001b[0mqbit\u001b[0m \u001b[0;32mfor\u001b[0m \u001b[0mqreg\u001b[0m \u001b[0;32min\u001b[0m \u001b[0mself\u001b[0m\u001b[0;34m.\u001b[0m\u001b[0mqregs\u001b[0m \u001b[0;32mfor\u001b[0m \u001b[0mqbit\u001b[0m \u001b[0;32min\u001b[0m \u001b[0mqreg\u001b[0m\u001b[0;34m]\u001b[0m\u001b[0;34m\u001b[0m\u001b[0;34m\u001b[0m\u001b[0m\n\u001b[0m\u001b[1;32m    240\u001b[0m \u001b[0;34m\u001b[0m\u001b[0m\n\u001b[1;32m    241\u001b[0m     \u001b[0;34m@\u001b[0m\u001b[0mproperty\u001b[0m\u001b[0;34m\u001b[0m\u001b[0;34m\u001b[0m\u001b[0m\n",
      "\u001b[0;32m~/miniconda3/envs/quantum/lib/python3.7/site-packages/qiskit/circuit/quantumcircuit.py\u001b[0m in \u001b[0;36m<listcomp>\u001b[0;34m(.0)\u001b[0m\n\u001b[1;32m    237\u001b[0m         \u001b[0mReturns\u001b[0m \u001b[0ma\u001b[0m \u001b[0mlist\u001b[0m \u001b[0mof\u001b[0m \u001b[0mquantum\u001b[0m \u001b[0mbits\u001b[0m \u001b[0;32min\u001b[0m \u001b[0mthe\u001b[0m \u001b[0morder\u001b[0m \u001b[0mthat\u001b[0m \u001b[0mthe\u001b[0m \u001b[0mregisters\u001b[0m \u001b[0mhad\u001b[0m \u001b[0mbeen\u001b[0m \u001b[0madded\u001b[0m\u001b[0;34m.\u001b[0m\u001b[0;34m\u001b[0m\u001b[0;34m\u001b[0m\u001b[0m\n\u001b[1;32m    238\u001b[0m         \"\"\"\n\u001b[0;32m--> 239\u001b[0;31m         \u001b[0;32mreturn\u001b[0m \u001b[0;34m[\u001b[0m\u001b[0mqbit\u001b[0m \u001b[0;32mfor\u001b[0m \u001b[0mqreg\u001b[0m \u001b[0;32min\u001b[0m \u001b[0mself\u001b[0m\u001b[0;34m.\u001b[0m\u001b[0mqregs\u001b[0m \u001b[0;32mfor\u001b[0m \u001b[0mqbit\u001b[0m \u001b[0;32min\u001b[0m \u001b[0mqreg\u001b[0m\u001b[0;34m]\u001b[0m\u001b[0;34m\u001b[0m\u001b[0;34m\u001b[0m\u001b[0m\n\u001b[0m\u001b[1;32m    240\u001b[0m \u001b[0;34m\u001b[0m\u001b[0m\n\u001b[1;32m    241\u001b[0m     \u001b[0;34m@\u001b[0m\u001b[0mproperty\u001b[0m\u001b[0;34m\u001b[0m\u001b[0;34m\u001b[0m\u001b[0m\n",
      "\u001b[0;31mKeyboardInterrupt\u001b[0m: "
     ]
    }
   ],
   "source": [
    "all_results = {}\n",
    "\n",
    "for n_components in range(2, 6):\n",
    "    n_depth = n_components\n",
    "\n",
    "    while n_depth < 6:\n",
    "        pca = PCA(n_components=n_components)\n",
    "        pca.fit(train_0_new)\n",
    "        train_0_pca = pca.transform(train_0_new)\n",
    "        train_1_pca = pca.transform(train_1_new)\n",
    "        test_0_pca = pca.transform(test_0_new)\n",
    "        test_1_pca = pca.transform(test_1_new)\n",
    "\n",
    "        training_dataset_size = 20\n",
    "        testing_dataset_size = 10\n",
    "        random_seed = 10598\n",
    "        shots = 1024\n",
    "\n",
    "\n",
    "        train_0_final = train_0_pca[:training_dataset_size]\n",
    "        train_1_final = train_1_pca[:training_dataset_size]\n",
    "\n",
    "        test_0_final = test_0_pca[:testing_dataset_size]\n",
    "        test_1_final = test_1_pca[:testing_dataset_size]\n",
    "\n",
    "        train_dataset = {'0': train_0_final, \n",
    "                         '1': train_1_final}\n",
    "\n",
    "        test_dataset = {'0': test_0_final, \n",
    "                        '1': test_1_final}\n",
    "\n",
    "        class_name = {'0': 0, '1': 1}\n",
    "\n",
    "        train_datapoints, class_to_label_train = split_dataset_to_data_and_labels(train_dataset, class_name)\n",
    "        test_datapoints, class_to_label_test = split_dataset_to_data_and_labels(test_dataset, class_name)\n",
    "\n",
    "#         print(class_to_label_train)\n",
    "#         print(class_to_label_test)\n",
    "\n",
    "        # backend = IBMQ.backend('qasm_simulator')             \n",
    "        backend = Aer.get_backend('qasm_simulator')\n",
    "\n",
    "        feature_map = SecondOrderExpansion(n_components, depth=n_depth)\n",
    "        svm = QSVM(feature_map, train_dataset, test_dataset, None)# the data for prediction can be feeded later.\n",
    "        svm.random_seed = random_seed\n",
    "        quantum_instance = QuantumInstance(backend, shots=shots)\n",
    "        result = svm.run(quantum_instance)\n",
    "        \n",
    "        print(\"n_components: {}, n_depth: {}\".format(n_components, n_depth))\n",
    "        print(result['testing_accuracy'])\n",
    "        all_results[(n_components, n_depth)] = result\n",
    "        \n",
    "        n_depth += 1"
   ]
  },
  {
   "cell_type": "markdown",
   "metadata": {},
   "source": [
    "# Comparison with Classical SVM\n",
    "We compare the Quantum SVM with a Classical SVM using the same input data\n",
    "\n",
    " | n_components | accuracy |\n",
    " | ------------ | -------- |\n",
    " | 2            | 1.0      |\n",
    " | 3            | 1.0      |\n",
    " | 4            | 0.95     |\n",
    " | 5            | 1.0      |"
   ]
  },
  {
   "cell_type": "code",
   "execution_count": 39,
   "metadata": {},
   "outputs": [],
   "source": [
    "from sklearn.svm import SVC"
   ]
  },
  {
   "cell_type": "code",
   "execution_count": 42,
   "metadata": {},
   "outputs": [
    {
     "name": "stderr",
     "output_type": "stream",
     "text": [
      "/Users/jseam/miniconda3/envs/quantum/lib/python3.7/site-packages/sklearn/svm/base.py:193: FutureWarning: The default value of gamma will change from 'auto' to 'scale' in version 0.22 to account better for unscaled features. Set gamma explicitly to 'auto' or 'scale' to avoid this warning.\n",
      "  \"avoid this warning.\", FutureWarning)\n",
      "/Users/jseam/miniconda3/envs/quantum/lib/python3.7/site-packages/sklearn/svm/base.py:193: FutureWarning: The default value of gamma will change from 'auto' to 'scale' in version 0.22 to account better for unscaled features. Set gamma explicitly to 'auto' or 'scale' to avoid this warning.\n",
      "  \"avoid this warning.\", FutureWarning)\n"
     ]
    },
    {
     "name": "stdout",
     "output_type": "stream",
     "text": [
      "1.0\n",
      "1.0\n",
      "0.95\n",
      "1.0\n"
     ]
    },
    {
     "name": "stderr",
     "output_type": "stream",
     "text": [
      "/Users/jseam/miniconda3/envs/quantum/lib/python3.7/site-packages/sklearn/svm/base.py:193: FutureWarning: The default value of gamma will change from 'auto' to 'scale' in version 0.22 to account better for unscaled features. Set gamma explicitly to 'auto' or 'scale' to avoid this warning.\n",
      "  \"avoid this warning.\", FutureWarning)\n",
      "/Users/jseam/miniconda3/envs/quantum/lib/python3.7/site-packages/sklearn/svm/base.py:193: FutureWarning: The default value of gamma will change from 'auto' to 'scale' in version 0.22 to account better for unscaled features. Set gamma explicitly to 'auto' or 'scale' to avoid this warning.\n",
      "  \"avoid this warning.\", FutureWarning)\n"
     ]
    }
   ],
   "source": [
    "all_results = []\n",
    "\n",
    "for n_components in range(2, 6):\n",
    "    training_dataset_size = 20\n",
    "    testing_dataset_size = 10\n",
    "    \n",
    "    pca = PCA(n_components=n_components)\n",
    "    pca.fit(train_0_new)\n",
    "    train_0_pca = pca.transform(train_0_new)\n",
    "    train_1_pca = pca.transform(train_1_new)\n",
    "    test_0_pca = pca.transform(test_0_new)\n",
    "    test_1_pca = pca.transform(test_1_new)\n",
    "\n",
    "    train_0_final = train_0_pca[:training_dataset_size]\n",
    "    train_1_final = train_1_pca[:training_dataset_size]\n",
    "\n",
    "    test_0_final = test_0_pca[:testing_dataset_size]\n",
    "    test_1_final = test_1_pca[:testing_dataset_size]\n",
    "\n",
    "    train_dataset = {'0': train_0_final, \n",
    "                     '1': train_1_final}\n",
    "\n",
    "    test_dataset = {'0': test_0_final, \n",
    "                    '1': test_1_final}\n",
    "\n",
    "    class_name = {'0': 0, '1': 1}\n",
    "\n",
    "    train_datapoints, class_to_label_train = split_dataset_to_data_and_labels(train_dataset, class_name)\n",
    "    test_datapoints, class_to_label_test = split_dataset_to_data_and_labels(test_dataset, class_name)\n",
    "\n",
    "    clf = SVC()\n",
    "    clf.fit(train_datapoints, class_to_label_train)\n",
    "    \n",
    "    result = clf.score(test_datapoints, class_to_label_test)\n",
    "    \n",
    "    print(result)"
   ]
  },
  {
   "cell_type": "markdown",
   "metadata": {},
   "source": [
    "# Conclusion: No practical reason to use Quantum Machine Learning instead of Classical Machine Learning at the moment (dated: 12 Oct 2019)\n",
    "\n",
    "## Key Missing Ingredients: More Qubits, and QRAM\n",
    "\n",
    "\n",
    "Using QSVM on high dimensional data without QRAM at the moment is not very practical at the moment. More qubits is required in order to have more useful results. There's still probably a long way to go to for quantum machine learning approaches to rival classical machine learning approaches. "
   ]
  },
  {
   "cell_type": "markdown",
   "metadata": {},
   "source": [
    "# Other Ideas To Look Into\n",
    "These are other architectures that we wanted to look into but didn't have the time."
   ]
  },
  {
   "cell_type": "markdown",
   "metadata": {},
   "source": [
    "# Tree Tensor Network\n",
    "From [Hierarchical Quantum Classifiers](https://www.nature.com/articles/s41534-018-0116-9)"
   ]
  },
  {
   "cell_type": "code",
   "execution_count": 91,
   "metadata": {},
   "outputs": [
    {
     "data": {
      "text/html": [
       "<pre style=\"word-wrap: normal;white-space: pre;background: #fff0;line-height: 1.1;font-family: &quot;Courier New&quot;,Courier,monospace\">         ┌───┐┌────┐                   \n",
       "qr_0: |0>┤ H ├┤ Ry ├──■────────────────\n",
       "         ├───┤├────┤┌─┴─┐┌────┐        \n",
       "qr_1: |0>┤ H ├┤ Ry ├┤ X ├┤ Ry ├──■─────\n",
       "         ├───┤├────┤├───┤├────┤┌─┴─┐┌─┐\n",
       "qr_2: |0>┤ H ├┤ Ry ├┤ X ├┤ Ry ├┤ X ├┤M├\n",
       "         ├───┤├────┤└─┬─┘└────┘└───┘└╥┘\n",
       "qr_3: |0>┤ H ├┤ Ry ├──■──────────────╫─\n",
       "         └───┘└────┘                 ║ \n",
       " cr_0: 0 ════════════════════════════╩═\n",
       "                                       </pre>"
      ],
      "text/plain": [
       "<qiskit.visualization.text.TextDrawing at 0x14758fad0>"
      ]
     },
     "execution_count": 91,
     "metadata": {},
     "output_type": "execute_result"
    }
   ],
   "source": [
    "import numpy as np\n",
    "qr = QuantumRegister(4, 'qr')\n",
    "cr = ClassicalRegister(1, 'cr')\n",
    "circuit = QuantumCircuit(qr, cr)\n",
    "\n",
    "theta_0 = np.random.rand((4))\n",
    "theta_1 = np.random.rand((2))\n",
    "\n",
    "\n",
    "circuit.h(qr)\n",
    "circuit.ry(theta_0, qr)\n",
    "circuit.cx(qr[0], qr[1])\n",
    "circuit.cx(qr[3], qr[2])\n",
    "circuit.ry(theta_1, qr[1:3])\n",
    "circuit.cx(qr[1], qr[2])\n",
    "circuit.measure(qr[2], cr[0])\n",
    "circuit.draw('mpl_plot')"
   ]
  },
  {
   "cell_type": "markdown",
   "metadata": {},
   "source": [
    "## [Distance-based classifier with a quantum interference circuit](https://arxiv.org/pdf/1703.10793.pdf)\n",
    "\n",
    "Click for more info\n",
    "\n",
    "![image.png](image.png)"
   ]
  },
  {
   "cell_type": "markdown",
   "metadata": {},
   "source": [
    "# [Quantum classification of the MNIST dataset via Slow Feature Analysis](https://arxiv.org/pdf/1805.08837.pdf)\n",
    "\n",
    "\n",
    "Simulate QRAM inefficiently classically."
   ]
  },
  {
   "cell_type": "code",
   "execution_count": null,
   "metadata": {},
   "outputs": [],
   "source": []
  }
 ],
 "metadata": {
  "kernelspec": {
   "display_name": "Python 3",
   "language": "python",
   "name": "python3"
  },
  "language_info": {
   "codemirror_mode": {
    "name": "ipython",
    "version": 3
   },
   "file_extension": ".py",
   "mimetype": "text/x-python",
   "name": "python",
   "nbconvert_exporter": "python",
   "pygments_lexer": "ipython3",
   "version": "3.7.4"
  }
 },
 "nbformat": 4,
 "nbformat_minor": 2
}
