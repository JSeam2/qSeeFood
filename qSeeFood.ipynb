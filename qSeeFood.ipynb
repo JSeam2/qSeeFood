{
 "cells": [
  {
   "cell_type": "code",
   "execution_count": 74,
   "metadata": {},
   "outputs": [],
   "source": [
    "from IPython.display import HTML"
   ]
  },
  {
   "cell_type": "markdown",
   "metadata": {},
   "source": [
    "# Quantum Hot Dog, Not Hot Dog\n",
    "\n",
    "## Video Context\n",
    "\n",
    "\n",
    "## Background\n",
    "If you have watched Silicon Valley, you would have come across the SeeFood fracas which made Jian Yang a 'very rich man'. If you haven't essentially, the SeeFood app classifies hot dogs and not hot dogs. For this project, we want to adapt this computer vision algorithm to quantum computers to classify hot dogs and not hot dogs using IBMQ.  \n",
    "\n",
    "## Overview of Current Direction\n",
    "To achieve this goal practically, we need to find a way to encode highly dimensional image data to the limited qubit registers available. Subsequently, we need to find an appropriate quantum machine learning algorithm and training algorithm that can be feasibly trained given the time constraints. The final output is essentially a binary classifier. The system will likely involve a combination of quantum and classical approaches."
   ]
  },
  {
   "cell_type": "code",
   "execution_count": 75,
   "metadata": {},
   "outputs": [
    {
     "name": "stderr",
     "output_type": "stream",
     "text": [
      "/Users/jseam/miniconda3/envs/quantum/lib/python3.7/site-packages/IPython/core/display.py:694: UserWarning: Consider using IPython.display.IFrame instead\n",
      "  warnings.warn(\"Consider using IPython.display.IFrame instead\")\n"
     ]
    },
    {
     "data": {
      "text/html": [
       "<iframe width=\"560\" height=\"315\" src=\"https://www.youtube.com/embed/FNyi3nAuLb0\" frameborder=\"0\" allow=\"accelerometer; autoplay; encrypted-media; gyroscope; picture-in-picture\" allowfullscreen></iframe>"
      ],
      "text/plain": [
       "<IPython.core.display.HTML object>"
      ]
     },
     "execution_count": 75,
     "metadata": {},
     "output_type": "execute_result"
    }
   ],
   "source": [
    "HTML('<iframe width=\"560\" height=\"315\" src=\"https://www.youtube.com/embed/FNyi3nAuLb0\" frameborder=\"0\" allow=\"accelerometer; autoplay; encrypted-media; gyroscope; picture-in-picture\" allowfullscreen></iframe>'\n",
    ")"
   ]
  },
  {
   "cell_type": "markdown",
   "metadata": {},
   "source": [
    "# Load Libraries"
   ]
  },
  {
   "cell_type": "code",
   "execution_count": 76,
   "metadata": {},
   "outputs": [
    {
     "name": "stderr",
     "output_type": "stream",
     "text": [
      "/Users/jseam/miniconda3/envs/quantum/lib/python3.7/site-packages/qiskit/providers/ibmq/credentials/configrc.py:130: UserWarning: Credentials already present. Set overwrite=True to overwrite.\n",
      "  warnings.warn('Credentials already present. '\n"
     ]
    }
   ],
   "source": [
    "%matplotlib inline\n",
    "\n",
    "# import relevant libraries\n",
    "import secret\n",
    "import os\n",
    "import pprint\n",
    "import numpy as np\n",
    "import matplotlib.pyplot as plt\n",
    "from sklearn.decomposition import PCA\n",
    "from sklearn.preprocessing import StandardScaler\n",
    "from sklearn.manifold import TSNE\n",
    "\n",
    "from qiskit import IBMQ\n",
    "# standard-ish Qiskit libraries\n",
    "from qiskit import QuantumRegister, ClassicalRegister, QuantumCircuit, execute, Aer, IBMQ\n",
    "\n",
    "# about transpiling, compiling, and executing\n",
    "from qiskit.compiler import transpile\n",
    "\n",
    "# For graphs\n",
    "from qiskit.tools.jupyter import *\n",
    "from qiskit.visualization import *\n",
    "\n",
    "# Aer noise models\n",
    "from qiskit.providers.aer import noise\n",
    "\n",
    "# Save account if you haven't already done so\n",
    "IBMQ.save_account(secret.TOKEN)"
   ]
  },
  {
   "cell_type": "markdown",
   "metadata": {},
   "source": [
    "# Sanity checks to see if we are properly connected"
   ]
  },
  {
   "cell_type": "code",
   "execution_count": 77,
   "metadata": {},
   "outputs": [
    {
     "name": "stderr",
     "output_type": "stream",
     "text": [
      "/Users/jseam/miniconda3/envs/quantum/lib/python3.7/site-packages/qiskit/providers/ibmq/ibmqfactory.py:181: UserWarning: Credentials are already in use. The existing account in the session will be replaced.\n",
      "  warnings.warn('Credentials are already in use. The existing '\n"
     ]
    },
    {
     "data": {
      "text/plain": [
       "[<AccountProvider for IBMQ(hub='ibm-q', group='open', project='main')>]"
      ]
     },
     "execution_count": 77,
     "metadata": {},
     "output_type": "execute_result"
    }
   ],
   "source": [
    "# Check if IBMQ is working\n",
    "IBMQ.load_account()\n",
    "IBMQ.providers()"
   ]
  },
  {
   "cell_type": "code",
   "execution_count": 78,
   "metadata": {},
   "outputs": [
    {
     "name": "stdout",
     "output_type": "stream",
     "text": [
      "=================================================================================\n",
      "Simulators\n",
      "=================================================================================\n",
      "[<IBMQSimulator('ibmq_qasm_simulator') from IBMQ(hub='ibm-q', group='open', project='main')>]\n",
      "\n",
      "=================================================================================\n",
      "Real quantum computers\n",
      "=================================================================================\n",
      "[<IBMQBackend('ibmqx2') from IBMQ(hub='ibm-q', group='open', project='main')>,\n",
      " <IBMQBackend('ibmq_16_melbourne') from IBMQ(hub='ibm-q', group='open', project='main')>,\n",
      " <IBMQBackend('ibmq_vigo') from IBMQ(hub='ibm-q', group='open', project='main')>,\n",
      " <IBMQBackend('ibmq_ourense') from IBMQ(hub='ibm-q', group='open', project='main')>]\n",
      "\n"
     ]
    }
   ],
   "source": [
    "# Get provider and get backends\n",
    "provider = IBMQ.get_provider(hub='ibm-q')\n",
    "\n",
    "print('='*81)\n",
    "print(\"Simulators\")\n",
    "print('='*81)\n",
    "pprint.pprint(provider.backends(simulator=True, operational=True))\n",
    "print()\n",
    "\n",
    "print('='*81)\n",
    "print(\"Real quantum computers\")\n",
    "print('='*81)\n",
    "pprint.pprint(provider.backends(simulator=False, operational=True))\n",
    "print()"
   ]
  },
  {
   "cell_type": "markdown",
   "metadata": {},
   "source": [
    "# Feasibility Study With MNIST\n",
    "We first study the feasibility of this with MNIST dataset. We will classify 1 and 0 digits for a start.\n",
    "\n",
    "## Load Data and Sanity Checks"
   ]
  },
  {
   "cell_type": "code",
   "execution_count": 79,
   "metadata": {},
   "outputs": [
    {
     "name": "stderr",
     "output_type": "stream",
     "text": [
      "WARNING:absl:Warning: Setting shuffle_files=True because split=TRAIN and shuffle_files=None. This behavior will be deprecated on 2019-08-06, at which point shuffle_files=False will be the default for all splits.\n"
     ]
    }
   ],
   "source": [
    "# load data\n",
    "import tensorflow_datasets as tfds\n",
    "ds_train, ds_test = tfds.load(name=\"mnist\", split=[\"train\", \"test\"])"
   ]
  },
  {
   "cell_type": "code",
   "execution_count": 80,
   "metadata": {},
   "outputs": [],
   "source": [
    "train_0 = []\n",
    "train_1 = []\n",
    "train_label = []\n",
    "\n",
    "test_0 = []\n",
    "test_1 = []\n",
    "test_label = []\n",
    "\n",
    "for example in tfds.as_numpy(ds_train):\n",
    "    numpy_image, numpy_label = example[\"image\"], example[\"label\"]\n",
    "    if numpy_label == 0:\n",
    "        train_0.append(numpy_image.reshape((784)))\n",
    "        train_label.append(numpy_label)\n",
    "    \n",
    "    elif numpy_label == 1:\n",
    "        train_1.append(numpy_image.reshape((784)))\n",
    "        train_label.append(numpy_label)\n",
    "\n",
    "        \n",
    "    else:\n",
    "        continue\n",
    "\n",
    "for example in tfds.as_numpy(ds_test):\n",
    "    numpy_image, numpy_label = example[\"image\"], example[\"label\"]\n",
    "    if numpy_label == 0:\n",
    "        test_0.append(numpy_image.reshape((784)))\n",
    "        test_label.append(numpy_label)\n",
    "    \n",
    "    elif numpy_label == 1:\n",
    "        test_1.append(numpy_image.reshape((784)))\n",
    "        test_label.append(numpy_label)\n",
    "\n",
    "    else:\n",
    "        continue"
   ]
  },
  {
   "cell_type": "code",
   "execution_count": 81,
   "metadata": {},
   "outputs": [
    {
     "data": {
      "text/plain": [
       "<matplotlib.image.AxesImage at 0x13ebff210>"
      ]
     },
     "execution_count": 81,
     "metadata": {},
     "output_type": "execute_result"
    },
    {
     "data": {
      "image/png": "[encoded data removed]",
      "text/plain": [
       "<Figure size 432x288 with 1 Axes>"
      ]
     },
     "metadata": {
      "needs_background": "light"
     },
     "output_type": "display_data"
    }
   ],
   "source": [
    "# Sanity Check\n",
    "pixels = train_0[0]\n",
    "pixels = pixels.reshape((28,28))\n",
    "plt.imshow(pixels)"
   ]
  },
  {
   "cell_type": "code",
   "execution_count": 82,
   "metadata": {},
   "outputs": [
    {
     "data": {
      "text/plain": [
       "<matplotlib.image.AxesImage at 0x1363e1690>"
      ]
     },
     "execution_count": 82,
     "metadata": {},
     "output_type": "execute_result"
    },
    {
     "data": {
      "image/png": "[encoded data removed]",
      "text/plain": [
       "<Figure size 432x288 with 1 Axes>"
      ]
     },
     "metadata": {
      "needs_background": "light"
     },
     "output_type": "display_data"
    }
   ],
   "source": [
    "pixels = train_1[0]\n",
    "pixels = pixels.reshape((28,28))\n",
    "plt.imshow(pixels)"
   ]
  },
  {
   "cell_type": "code",
   "execution_count": 83,
   "metadata": {},
   "outputs": [
    {
     "data": {
      "text/plain": [
       "<matplotlib.image.AxesImage at 0x1365f2250>"
      ]
     },
     "execution_count": 83,
     "metadata": {},
     "output_type": "execute_result"
    },
    {
     "data": {
      "image/png": "[encoded data removed]",
      "text/plain": [
       "<Figure size 432x288 with 1 Axes>"
      ]
     },
     "metadata": {
      "needs_background": "light"
     },
     "output_type": "display_data"
    }
   ],
   "source": [
    "pixels = test_0[0]\n",
    "pixels = pixels.reshape((28,28))\n",
    "plt.imshow(pixels)"
   ]
  },
  {
   "cell_type": "code",
   "execution_count": 84,
   "metadata": {},
   "outputs": [
    {
     "data": {
      "text/plain": [
       "<matplotlib.image.AxesImage at 0x13666bc90>"
      ]
     },
     "execution_count": 84,
     "metadata": {},
     "output_type": "execute_result"
    },
    {
     "data": {
      "image/png": "[encoded data removed]",
      "text/plain": [
       "<Figure size 432x288 with 1 Axes>"
      ]
     },
     "metadata": {
      "needs_background": "light"
     },
     "output_type": "display_data"
    }
   ],
   "source": [
    "pixels = test_1[0]\n",
    "pixels = pixels.reshape((28,28))\n",
    "plt.imshow(pixels)"
   ]
  },
  {
   "cell_type": "markdown",
   "metadata": {},
   "source": [
    "## Dimensionality Reduction\n",
    "\n",
    "### Apply PCA"
   ]
  },
  {
   "cell_type": "code",
   "execution_count": 85,
   "metadata": {},
   "outputs": [
    {
     "ename": "SyntaxError",
     "evalue": "invalid syntax (<ipython-input-85-8212154b5d98>, line 12)",
     "output_type": "error",
     "traceback": [
      "\u001b[0;36m  File \u001b[0;32m\"<ipython-input-85-8212154b5d98>\"\u001b[0;36m, line \u001b[0;32m12\u001b[0m\n\u001b[0;31m    Apply pca with 0.95 variance\u001b[0m\n\u001b[0m            ^\u001b[0m\n\u001b[0;31mSyntaxError\u001b[0m\u001b[0;31m:\u001b[0m invalid syntax\n"
     ]
    }
   ],
   "source": [
    "train_all = np.array(train_0 + train_1)\n",
    "test_all = np.array(test_0 + test_1)\n",
    "\n",
    "print(train_all.shape)\n",
    "\n",
    "# Scale images\n",
    "scaler = StandardScaler()\n",
    "scaler.fit(train_all)\n",
    "train_all = scaler.transform(train_all)\n",
    "test_all = scaler.transform(test_all)\n",
    "\n",
    "#Apply pca with 0.95 variance\n",
    "pca = PCA(n_components=50)\n",
    "pca.fit(train_all)\n",
    "train_all = pca.transform(train_all)\n",
    "test_all = pca.transform(test_all)"
   ]
  },
  {
   "cell_type": "markdown",
   "metadata": {},
   "source": [
    "### Apply T SNE"
   ]
  },
  {
   "cell_type": "code",
   "execution_count": 17,
   "metadata": {},
   "outputs": [],
   "source": [
    "train_tsne = TSNE(n_components=2, perplexity=5).fit_transform(train_all)"
   ]
  },
  {
   "cell_type": "code",
   "execution_count": 22,
   "metadata": {},
   "outputs": [
    {
     "name": "stdout",
     "output_type": "stream",
     "text": [
      "[ 88.1336    23.28286   72.23721  ... -39.59728   -6.562564 -61.57312 ]\n",
      "[ 39.23274   -54.114407  -17.357641  ...  11.168255   47.172367\n",
      "  -3.1950028]\n"
     ]
    },
    {
     "data": {
      "text/plain": [
       "<matplotlib.collections.PathCollection at 0x1361cee10>"
      ]
     },
     "execution_count": 22,
     "metadata": {},
     "output_type": "execute_result"
    },
    {
     "data": {
      "image/png": "[encoded data removed]",
      "text/plain": [
       "<Figure size 432x288 with 1 Axes>"
      ]
     },
     "metadata": {
      "needs_background": "light"
     },
     "output_type": "display_data"
    }
   ],
   "source": [
    "# x, y = np.hsplit(train_tsne, 2)\n",
    "# x = x.reshape((12665))\n",
    "# y = y.reshape((12665))\n",
    "# print(x)\n",
    "# print(y)\n",
    "# plt.scatter(x, y, cmap=plt.get_cmap('Spectral'))\n",
    "# vectors = train_tsne[np.array([item for item in train_label])]\n",
    "\n",
    "print(train_tsne[:, 0])\n",
    "print(train_tsne[:, 1])\n",
    "    \n",
    "fig, ax = plt.subplots()\n",
    "\n",
    "# print(train_label)\n",
    "# for i in len(train_label):\n",
    "#     if i == 100:\n",
    "#         break\n",
    "#     else:\n",
    "#         ax.scatter(x, y, c=color, s=scale, label=color,\n",
    "#                alpha=0.3, edgecolors='none')\n",
    "\n",
    "plt.scatter(\n",
    "    train_tsne[:, 0], train_tsne[:, 1], cmap=plt.get_cmap('Spectral'))\n",
    "\n"
   ]
  },
  {
   "cell_type": "markdown",
   "metadata": {},
   "source": [
    "# Quantum Circuit For Classification"
   ]
  },
  {
   "cell_type": "code",
   "execution_count": 86,
   "metadata": {},
   "outputs": [],
   "source": [
    "train_0_new = np.array(train_0)\n",
    "train_1_new = np.array(train_1)\n",
    "\n",
    "test_0_new = np.array(test_0)\n",
    "test_1_new = np.array(test_1)\n",
    "\n",
    "# Scale images\n",
    "scaler = StandardScaler()\n",
    "scaler.fit(train_0_new)\n",
    "train_0_new = scaler.transform(train_0_new)\n",
    "train_1_new = scaler.transform(train_1_new)\n",
    "test_0_new = scaler.transform(test_0_new)\n",
    "test_1_new = scaler.transform(test_1_new)\n",
    "\n",
    "# Apply pca with 0.95 variance\n",
    "pca = PCA(n_components=2)\n",
    "pca.fit(train_0_new)\n",
    "train_0_new = pca.transform(train_0_new)\n",
    "train_1_new = pca.transform(train_1_new)\n",
    "test_0_new = pca.transform(test_0_new)\n",
    "test_1_new = pca.transform(test_1_new)"
   ]
  },
  {
   "cell_type": "code",
   "execution_count": null,
   "metadata": {},
   "outputs": [],
   "source": []
  },
  {
   "cell_type": "code",
   "execution_count": 87,
   "metadata": {},
   "outputs": [],
   "source": [
    "from qiskit.aqua.algorithms import QSVM\n",
    "from qiskit.aqua.components.feature_maps import SecondOrderExpansion\n",
    "from qiskit.aqua.utils import split_dataset_to_data_and_labels, map_label_to_class_name\n",
    "from qiskit.aqua import run_algorithm, QuantumInstance"
   ]
  },
  {
   "cell_type": "code",
   "execution_count": 102,
   "metadata": {},
   "outputs": [
    {
     "name": "stdout",
     "output_type": "stream",
     "text": [
      "(20, 2)\n",
      "(20, 2)\n",
      "(10, 2)\n",
      "(10, 2)\n",
      "[0 0 0 0 0 0 0 0 0 0 0 0 0 0 0 0 0 0 0 0 1 1 1 1 1 1 1 1 1 1 1 1 1 1 1 1 1\n",
      " 1 1 1]\n",
      "[0 0 0 0 0 0 0 0 0 0 1 1 1 1 1 1 1 1 1 1]\n"
     ]
    }
   ],
   "source": [
    "training_dataset_size = 20\n",
    "testing_dataset_size = 10\n",
    "random_seed = 10598\n",
    "shots = 1024\n",
    "\n",
    "train_0_final = train_0_new[:training_dataset_size]\n",
    "train_1_final = train_1_new[:training_dataset_size]\n",
    "\n",
    "print(train_0_final.shape)\n",
    "print(train_1_final.shape)\n",
    "\n",
    "test_0_final = test_0_new[:testing_dataset_size]\n",
    "test_1_final = test_1_new[:testing_dataset_size]\n",
    "\n",
    "print(test_0_final.shape)\n",
    "print(test_1_final.shape)\n",
    "\n",
    "\n",
    "train_dataset = {'0': train_0_final, \n",
    "                 '1': train_1_final}\n",
    "                                        \n",
    "test_dataset = {'0': test_0_final, \n",
    "                '1': test_1_final}\n",
    "\n",
    "class_name = {'0': 0, '1': 1}\n",
    "\n",
    "train_datapoints, class_to_label_train = split_dataset_to_data_and_labels(train_dataset, class_name)\n",
    "test_datapoints, class_to_label_test = split_dataset_to_data_and_labels(test_dataset, class_name)\n",
    "\n",
    "print(class_to_label_train)\n",
    "print(class_to_label_test)\n",
    "\n",
    "\n",
    "\n",
    "# backend = IBMQ.backend('qasm_simulator')             \n",
    "backend = Aer.get_backend('qasm_simulator')\n",
    "\n",
    "feature_map = SecondOrderExpansion(2, depth=2)\n",
    "svm = QSVM(feature_map, train_dataset, test_dataset, None)# the data for prediction can be feeded later.\n",
    "svm.random_seed = random_seed\n",
    "quantum_instance = QuantumInstance(backend, shots=shots)\n",
    "result = svm.run(quantum_instance)"
   ]
  },
  {
   "cell_type": "code",
   "execution_count": 103,
   "metadata": {},
   "outputs": [
    {
     "data": {
      "text/plain": [
       "0.75"
      ]
     },
     "execution_count": 103,
     "metadata": {},
     "output_type": "execute_result"
    }
   ],
   "source": [
    "result['testing_accuracy']"
   ]
  },
  {
   "cell_type": "code",
   "execution_count": 104,
   "metadata": {},
   "outputs": [
    {
     "data": {
      "text/plain": [
       "{'kernel_matrix_training': array([[1.        , 0.45117188, 0.18554688, ..., 0.14746094, 0.25683594,\n",
       "         0.69824219],\n",
       "        [0.45117188, 1.        , 0.06933594, ..., 0.0546875 , 0.69726562,\n",
       "         0.14941406],\n",
       "        [0.18554688, 0.06933594, 1.        , ..., 0.17480469, 0.03710938,\n",
       "         0.50683594],\n",
       "        ...,\n",
       "        [0.14746094, 0.0546875 , 0.17480469, ..., 1.        , 0.18066406,\n",
       "         0.2578125 ],\n",
       "        [0.25683594, 0.69726562, 0.03710938, ..., 0.18066406, 1.        ,\n",
       "         0.07910156],\n",
       "        [0.69824219, 0.14941406, 0.50683594, ..., 0.2578125 , 0.07910156,\n",
       "         1.        ]]),\n",
       " 'svm': {'alphas': array([ 66.26586732,  15.71611356, 142.76241023,  34.83108145,\n",
       "          27.3775359 , 104.11939902,  21.28407541,  51.03165762,\n",
       "          40.45933669,   7.30447064,  22.21748832,  35.6237549 ,\n",
       "          25.01715257, 112.11343269,  14.60533859,  25.88208686,\n",
       "          24.67478081,   7.33720858,   7.48378455,  96.45178211,\n",
       "          97.29171955,  32.5783123 ,   6.05097313,  46.80789551,\n",
       "           4.57551663,  28.07808098,   2.62054493,  28.30281464,\n",
       "          36.48875417,   5.71885296, 163.68247631,  18.64844443,\n",
       "          56.16738694,   3.40467518,   5.84352346,  47.86282098,\n",
       "          61.33745578]),\n",
       "  'bias': array([0.55542421]),\n",
       "  'support_vectors': array([[ -6.5758039 ,  -8.88518843],\n",
       "         [  9.70435399,   2.28665146],\n",
       "         [ -5.65887495,  10.15270598],\n",
       "         [  4.88389875,  -4.84494605],\n",
       "         [ 17.54005972,  -3.90805898],\n",
       "         [ -0.89977514,  -4.50379074],\n",
       "         [  6.96573722,  -4.36938851],\n",
       "         [ -2.81865079,  -8.57939018],\n",
       "         [ 12.47006343,  -4.15621123],\n",
       "         [ -2.06878297,  -2.93677638],\n",
       "         [ -7.75231268, -11.17270217],\n",
       "         [  3.23439735,  11.29196642],\n",
       "         [ -6.9388421 , -10.78166238],\n",
       "         [  5.37157204,   5.00863821],\n",
       "         [  0.03075854,   9.14475983],\n",
       "         [ -5.11142329,   9.73314413],\n",
       "         [ -9.55778345,  -7.020637  ],\n",
       "         [ -4.40733479,  -7.27707138],\n",
       "         [ -2.76877437,  -6.2503268 ],\n",
       "         [ -5.11973524,  -6.31089685],\n",
       "         [ -3.01065491,  -5.6224633 ],\n",
       "         [ -5.76652291,  -6.89977243],\n",
       "         [ -4.31538573,  -6.80845562],\n",
       "         [ -5.11602535,  -6.24493933],\n",
       "         [ -3.24794229,  -6.14595923],\n",
       "         [ -5.96224857,  -6.54163622],\n",
       "         [ -1.29903852,  -7.67426474],\n",
       "         [ -2.37002554,  -6.65695859],\n",
       "         [ -3.23189565,  -6.28723445],\n",
       "         [ -5.74956099,  -6.30319038],\n",
       "         [-10.02844457,  -7.02056265],\n",
       "         [ -4.94675189,  -6.39965078],\n",
       "         [ -6.066087  ,  -6.17108067],\n",
       "         [ -5.62439299,  -6.7847202 ],\n",
       "         [ -3.29930192,  -6.06673264],\n",
       "         [ -3.50703223,  -6.4421638 ],\n",
       "         [ -9.33659919,  -8.72178086]]),\n",
       "  'yin': array([-1., -1., -1., -1., -1., -1., -1., -1., -1., -1., -1., -1., -1.,\n",
       "         -1., -1., -1., -1.,  1.,  1.,  1.,  1.,  1.,  1.,  1.,  1.,  1.,\n",
       "          1.,  1.,  1.,  1.,  1.,  1.,  1.,  1.,  1.,  1.,  1.])},\n",
       " 'kernel_matrix_testing': array([[0.56445312, 0.02148438, 0.40917969, 0.16992188, 0.64746094,\n",
       "         0.40722656, 0.07324219, 0.64453125, 0.0859375 , 0.00292969,\n",
       "         0.0546875 , 0.02832031, 0.04785156, 0.00195312, 0.16601562,\n",
       "         0.15332031, 0.1796875 , 0.25585938, 0.37890625, 0.02539062,\n",
       "         0.61816406, 0.47949219, 0.59765625, 0.13085938, 0.37304688,\n",
       "         0.2578125 , 0.2109375 , 0.12109375, 0.08789062, 0.19628906,\n",
       "         0.34765625, 0.20507812, 0.38476562, 0.38867188, 0.34179688,\n",
       "         0.05859375, 0.55371094],\n",
       "        [0.16699219, 0.23535156, 0.25488281, 0.02734375, 0.09570312,\n",
       "         0.16699219, 0.13378906, 0.18066406, 0.5625    , 0.70410156,\n",
       "         0.00683594, 0.56835938, 0.50390625, 0.24902344, 0.        ,\n",
       "         0.29882812, 0.04589844, 0.25683594, 0.02929688, 0.74511719,\n",
       "         0.05371094, 0.18066406, 0.0546875 , 0.36132812, 0.01367188,\n",
       "         0.06738281, 0.06054688, 0.21289062, 0.01074219, 0.12890625,\n",
       "         0.33984375, 0.13183594, 0.04199219, 0.17285156, 0.0390625 ,\n",
       "         0.06054688, 0.04394531],\n",
       "        [0.18457031, 0.5078125 , 0.18457031, 0.17089844, 0.05566406,\n",
       "         0.19042969, 0.5859375 , 0.10546875, 0.48144531, 0.01855469,\n",
       "         0.3359375 , 0.23632812, 0.00195312, 0.15332031, 0.20605469,\n",
       "         0.09667969, 0.21777344, 0.40234375, 0.47851562, 0.02636719,\n",
       "         0.03515625, 0.41992188, 0.04882812, 0.10351562, 0.12011719,\n",
       "         0.08886719, 0.34375   , 0.03320312, 0.37597656, 0.27832031,\n",
       "         0.21191406, 0.15039062, 0.34863281, 0.0234375 , 0.10351562,\n",
       "         0.90820312, 0.00976562],\n",
       "        [0.09082031, 0.01953125, 0.33105469, 0.06445312, 0.13867188,\n",
       "         0.92578125, 0.38964844, 0.08300781, 0.24902344, 0.45214844,\n",
       "         0.09375   , 0.41210938, 0.70117188, 0.1171875 , 0.02148438,\n",
       "         0.58105469, 0.28710938, 0.22070312, 0.03125   , 0.2109375 ,\n",
       "         0.21777344, 0.26953125, 0.20996094, 0.51953125, 0.11132812,\n",
       "         0.04589844, 0.00878906, 0.24609375, 0.10351562, 0.00683594,\n",
       "         0.5546875 , 0.61914062, 0.44726562, 0.046875  , 0.10351562,\n",
       "         0.0625    , 0.27734375],\n",
       "        [0.25390625, 0.16308594, 0.76660156, 0.2578125 , 0.46289062,\n",
       "         0.39941406, 0.05078125, 0.55664062, 0.41992188, 0.44238281,\n",
       "         0.25195312, 0.13867188, 0.32910156, 0.35253906, 0.21386719,\n",
       "         0.48925781, 0.23535156, 0.70117188, 0.31933594, 0.3125    ,\n",
       "         0.40527344, 0.61328125, 0.46386719, 0.3359375 , 0.16308594,\n",
       "         0.39453125, 0.06054688, 0.52929688, 0.17285156, 0.23730469,\n",
       "         0.69042969, 0.14550781, 0.53808594, 0.51171875, 0.14941406,\n",
       "         0.        , 0.328125  ],\n",
       "        [0.38183594, 0.37792969, 0.20898438, 0.83789062, 0.21875   ,\n",
       "         0.23632812, 0.09667969, 0.17285156, 0.19042969, 0.41699219,\n",
       "         0.80957031, 0.11035156, 0.42675781, 0.38671875, 0.875     ,\n",
       "         0.12792969, 0.54785156, 0.01660156, 0.15136719, 0.1953125 ,\n",
       "         0.35742188, 0.05566406, 0.13378906, 0.03125   , 0.79980469,\n",
       "         0.76660156, 0.46191406, 0.46289062, 0.83203125, 0.20410156,\n",
       "         0.22167969, 0.00390625, 0.34179688, 0.18847656, 0.74609375,\n",
       "         0.40136719, 0.39355469],\n",
       "        [0.1015625 , 0.20605469, 0.36230469, 0.03613281, 0.30273438,\n",
       "         0.02441406, 0.23632812, 0.42480469, 0.56054688, 0.59863281,\n",
       "         0.00390625, 0.31054688, 0.2890625 , 0.27929688, 0.01171875,\n",
       "         0.26855469, 0.05078125, 0.31738281, 0.04589844, 0.59667969,\n",
       "         0.20800781, 0.42089844, 0.21484375, 0.20117188, 0.01269531,\n",
       "         0.09863281, 0.04101562, 0.27246094, 0.01074219, 0.12402344,\n",
       "         0.33105469, 0.01660156, 0.01757812, 0.17480469, 0.02929688,\n",
       "         0.07714844, 0.13378906],\n",
       "        [0.26074219, 0.2265625 , 0.71875   , 0.21582031, 0.59863281,\n",
       "         0.33789062, 0.23925781, 0.58496094, 0.29589844, 0.07421875,\n",
       "         0.18261719, 0.32324219, 0.08007812, 0.55566406, 0.28613281,\n",
       "         0.78125   , 0.60058594, 0.41113281, 0.12695312, 0.39160156,\n",
       "         0.61816406, 0.53808594, 0.68652344, 0.56152344, 0.08984375,\n",
       "         0.31640625, 0.13085938, 0.06054688, 0.19921875, 0.23632812,\n",
       "         0.56933594, 0.54199219, 0.37207031, 0.15625   , 0.06933594,\n",
       "         0.02246094, 0.65429688],\n",
       "        [0.50878906, 0.05175781, 0.85644531, 0.48535156, 0.68554688,\n",
       "         0.53125   , 0.24902344, 0.69921875, 0.22265625, 0.2109375 ,\n",
       "         0.44140625, 0.0390625 , 0.25390625, 0.47265625, 0.36621094,\n",
       "         0.51953125, 0.22949219, 0.6328125 , 0.11621094, 0.20214844,\n",
       "         0.70800781, 0.81738281, 0.52441406, 0.28710938, 0.234375  ,\n",
       "         0.59277344, 0.015625  , 0.19628906, 0.44042969, 0.06347656,\n",
       "         0.73046875, 0.08691406, 0.88476562, 0.15332031, 0.19824219,\n",
       "         0.06347656, 0.60742188],\n",
       "        [0.03613281, 0.20898438, 0.63378906, 0.13769531, 0.45214844,\n",
       "         0.07617188, 0.32421875, 0.57226562, 0.625     , 0.42285156,\n",
       "         0.04394531, 0.31933594, 0.18652344, 0.42871094, 0.06542969,\n",
       "         0.45898438, 0.21191406, 0.38671875, 0.03222656, 0.61328125,\n",
       "         0.33984375, 0.63671875, 0.35839844, 0.30273438, 0.06835938,\n",
       "         0.234375  , 0.05761719, 0.17382812, 0.01171875, 0.12011719,\n",
       "         0.51757812, 0.09960938, 0.13085938, 0.12402344, 0.08496094,\n",
       "         0.07519531, 0.23242188],\n",
       "        [0.15039062, 0.22558594, 0.51269531, 0.00878906, 0.5078125 ,\n",
       "         0.36621094, 0.51269531, 0.47949219, 0.33007812, 0.00097656,\n",
       "         0.00976562, 0.32128906, 0.04492188, 0.21386719, 0.0546875 ,\n",
       "         0.64160156, 0.30078125, 0.32617188, 0.20605469, 0.12597656,\n",
       "         0.41601562, 0.49902344, 0.66113281, 0.7109375 , 0.03613281,\n",
       "         0.05761719, 0.09082031, 0.11816406, 0.00488281, 0.2109375 ,\n",
       "         0.37597656, 0.84179688, 0.18359375, 0.26757812, 0.04492188,\n",
       "         0.09472656, 0.40039062],\n",
       "        [0.02441406, 0.08886719, 0.61816406, 0.03222656, 0.14648438,\n",
       "         0.46191406, 0.29199219, 0.25488281, 0.71289062, 0.48535156,\n",
       "         0.03027344, 0.390625  , 0.47167969, 0.22265625, 0.00097656,\n",
       "         0.38574219, 0.09277344, 0.80761719, 0.43066406, 0.28222656,\n",
       "         0.06542969, 0.59863281, 0.07128906, 0.30761719, 0.09960938,\n",
       "         0.0546875 , 0.18359375, 0.2421875 , 0.02148438, 0.2734375 ,\n",
       "         0.70214844, 0.14648438, 0.33789062, 0.25390625, 0.09863281,\n",
       "         0.31445312, 0.0234375 ],\n",
       "        [0.00683594, 0.51171875, 0.32617188, 0.08398438, 0.31445312,\n",
       "         0.06542969, 0.63769531, 0.37695312, 0.43652344, 0.21484375,\n",
       "         0.14550781, 0.23535156, 0.06445312, 0.06542969, 0.13964844,\n",
       "         0.3203125 , 0.29785156, 0.125     , 0.03613281, 0.18261719,\n",
       "         0.19335938, 0.36523438, 0.39941406, 0.27636719, 0.04980469,\n",
       "         0.14355469, 0.00195312, 0.43945312, 0.10644531, 0.05859375,\n",
       "         0.21289062, 0.47167969, 0.01171875, 0.25292969, 0.03613281,\n",
       "         0.33105469, 0.18652344],\n",
       "        [0.37988281, 0.20507812, 0.18847656, 0.15039062, 0.31054688,\n",
       "         0.03125   , 0.16308594, 0.38085938, 0.28808594, 0.30859375,\n",
       "         0.05957031, 0.46777344, 0.2578125 , 0.09863281, 0.05371094,\n",
       "         0.15039062, 0.02832031, 0.08203125, 0.13574219, 0.46386719,\n",
       "         0.21972656, 0.2890625 , 0.22851562, 0.18652344, 0.27441406,\n",
       "         0.19140625, 0.12109375, 0.04394531, 0.03320312, 0.09277344,\n",
       "         0.21386719, 0.15234375, 0.08398438, 0.12988281, 0.34960938,\n",
       "         0.12304688, 0.11621094],\n",
       "        [0.37011719, 0.44335938, 0.125     , 0.39453125, 0.07421875,\n",
       "         0.45507812, 0.63183594, 0.08398438, 0.06542969, 0.21582031,\n",
       "         0.58886719, 0.05273438, 0.28808594, 0.14941406, 0.31152344,\n",
       "         0.11523438, 0.02832031, 0.2421875 , 0.06347656, 0.04492188,\n",
       "         0.13769531, 0.26464844, 0.046875  , 0.10546875, 0.08300781,\n",
       "         0.23828125, 0.04589844, 0.44042969, 0.56835938, 0.02636719,\n",
       "         0.16113281, 0.14160156, 0.67675781, 0.125     , 0.06347656,\n",
       "         0.51367188, 0.12597656],\n",
       "        [0.40917969, 0.22949219, 0.41699219, 0.13183594, 0.33886719,\n",
       "         0.390625  , 0.47167969, 0.37011719, 0.22070312, 0.00390625,\n",
       "         0.265625  , 0.03710938, 0.04101562, 0.19042969, 0.08203125,\n",
       "         0.234375  , 0.00195312, 0.53613281, 0.41113281, 0.01269531,\n",
       "         0.34472656, 0.66113281, 0.28417969, 0.17285156, 0.01269531,\n",
       "         0.0703125 , 0.14941406, 0.06640625, 0.33691406, 0.203125  ,\n",
       "         0.33398438, 0.0859375 , 0.70214844, 0.11425781, 0.01757812,\n",
       "         0.52539062, 0.26757812],\n",
       "        [0.07617188, 0.2421875 , 0.22753906, 0.16210938, 0.04980469,\n",
       "         0.1015625 , 0.12695312, 0.08203125, 0.31933594, 0.34960938,\n",
       "         0.08007812, 0.51464844, 0.23046875, 0.57421875, 0.09375   ,\n",
       "         0.48925781, 0.21191406, 0.15332031, 0.26953125, 0.92773438,\n",
       "         0.02050781, 0.10351562, 0.00292969, 0.53417969, 0.28027344,\n",
       "         0.171875  , 0.34863281, 0.015625  , 0.05859375, 0.37011719,\n",
       "         0.25976562, 0.22460938, 0.06835938, 0.26367188, 0.32226562,\n",
       "         0.06152344, 0.015625  ],\n",
       "        [0.11914062, 0.05371094, 0.05957031, 0.62011719, 0.12890625,\n",
       "         0.02539062, 0.07714844, 0.10546875, 0.03320312, 0.078125  ,\n",
       "         0.49023438, 0.00683594, 0.12792969, 0.59960938, 0.59960938,\n",
       "         0.07421875, 0.3984375 , 0.125     , 0.58691406, 0.2421875 ,\n",
       "         0.23535156, 0.00878906, 0.06542969, 0.15429688, 0.83691406,\n",
       "         0.49707031, 0.92285156, 0.12792969, 0.55664062, 0.73535156,\n",
       "         0.04785156, 0.01171875, 0.09863281, 0.32617188, 0.85253906,\n",
       "         0.34082031, 0.2734375 ],\n",
       "        [0.32714844, 0.07128906, 0.53613281, 0.04980469, 0.28808594,\n",
       "         0.75488281, 0.12304688, 0.26171875, 0.36425781, 0.25      ,\n",
       "         0.05664062, 0.28320312, 0.35058594, 0.19726562, 0.0703125 ,\n",
       "         0.52539062, 0.21191406, 0.57128906, 0.37988281, 0.27441406,\n",
       "         0.3359375 , 0.42871094, 0.33789062, 0.51367188, 0.13964844,\n",
       "         0.10058594, 0.171875  , 0.26953125, 0.07519531, 0.26367188,\n",
       "         0.62109375, 0.37695312, 0.54101562, 0.45019531, 0.10253906,\n",
       "         0.05957031, 0.33789062],\n",
       "        [0.02148438, 0.01269531, 0.3359375 , 0.0625    , 0.03222656,\n",
       "         0.39746094, 0.171875  , 0.078125  , 0.34472656, 0.20605469,\n",
       "         0.12109375, 0.09960938, 0.23535156, 0.4453125 , 0.04589844,\n",
       "         0.23046875, 0.03027344, 0.859375  , 0.78222656, 0.22851562,\n",
       "         0.01757812, 0.37402344, 0.03710938, 0.35253906, 0.12402344,\n",
       "         0.02636719, 0.53710938, 0.22265625, 0.10058594, 0.6953125 ,\n",
       "         0.40234375, 0.14453125, 0.39453125, 0.49023438, 0.13085938,\n",
       "         0.33007812, 0.00585938]]),\n",
       " 'testing_accuracy': 0.75,\n",
       " 'test_success_ratio': 0.75}"
      ]
     },
     "execution_count": 104,
     "metadata": {},
     "output_type": "execute_result"
    }
   ],
   "source": [
    "result"
   ]
  },
  {
   "cell_type": "markdown",
   "metadata": {},
   "source": [
    "# Hot Dog / Not Hot Dog"
   ]
  },
  {
   "cell_type": "markdown",
   "metadata": {},
   "source": [
    "## Step 1: Finding Images\n",
    "In order to do the task we first need to find images of hot dogs and not hot dogs. Thankfully, there is a kaggle dataset that had already done this for us :)\n",
    "\n",
    "[Hot Dog Not Hot Dog](https://www.kaggle.com/dansbecker/hot-dog-not-hot-dog)\n"
   ]
  },
  {
   "cell_type": "markdown",
   "metadata": {},
   "source": [
    "## Step 2: Processing Images\n",
    "Next, we need to process the images available on the dataset. Let's check how the images are like."
   ]
  },
  {
   "cell_type": "code",
   "execution_count": null,
   "metadata": {},
   "outputs": [],
   "source": []
  }
 ],
 "metadata": {
  "kernelspec": {
   "display_name": "Python 3",
   "language": "python",
   "name": "python3"
  },
  "language_info": {
   "codemirror_mode": {
    "name": "ipython",
    "version": 3
   },
   "file_extension": ".py",
   "mimetype": "text/x-python",
   "name": "python",
   "nbconvert_exporter": "python",
   "pygments_lexer": "ipython3",
   "version": "3.7.4"
  }
 },
 "nbformat": 4,
 "nbformat_minor": 2
}
