{
 "cells": [
  {
   "cell_type": "markdown",
   "metadata": {},
   "source": [
    "# qSeeFood Part 2"
   ]
  },
  {
   "cell_type": "code",
   "execution_count": 9,
   "metadata": {},
   "outputs": [],
   "source": [
    "%matplotlib inline\n",
    "\n",
    "# import relevant libraries\n",
    "import secret\n",
    "import os\n",
    "import pprint\n",
    "import numpy as np\n",
    "import matplotlib.pyplot as plt\n",
    "from PIL import Image\n",
    "from sklearn.decomposition import PCA\n",
    "from sklearn.preprocessing import StandardScaler\n",
    "from sklearn.manifold import TSNE\n",
    "\n",
    "from qiskit import IBMQ\n",
    "# standard-ish Qiskit libraries\n",
    "from qiskit import QuantumRegister, ClassicalRegister, QuantumCircuit, execute, Aer, IBMQ\n",
    "from qiskit.aqua.algorithms import QSVM\n",
    "from qiskit.aqua.components.feature_maps import SecondOrderExpansion\n",
    "from qiskit.aqua.utils import split_dataset_to_data_and_labels, map_label_to_class_name\n",
    "from qiskit.aqua import run_algorithm, QuantumInstance\n",
    "\n",
    "\n",
    "# about transpiling, compiling, and executing\n",
    "from qiskit.compiler import transpile\n",
    "\n",
    "# For graphs\n",
    "from qiskit.tools.jupyter import *\n",
    "from qiskit.visualization import *\n",
    "\n",
    "# Aer noise models\n",
    "from qiskit.providers.aer import noise\n",
    "\n",
    "# Save account if you haven't already done so\n",
    "IBMQ.save_account(secret.TOKEN)"
   ]
  },
  {
   "cell_type": "markdown",
   "metadata": {},
   "source": [
    "## Step 1: Finding Images\n",
    "In order to do the task we first need to find images of hot dogs and not hot dogs. Thankfully, there is a kaggle dataset that had already done this for us :)\n",
    "\n",
    "[Hot Dog Not Hot Dog](https://www.kaggle.com/dansbecker/hot-dog-not-hot-dog)\n"
   ]
  },
  {
   "cell_type": "markdown",
   "metadata": {},
   "source": [
    "## Step 2: Processing Images\n",
    "We have scaled and padded images to MNIST 28x28 size and convert to grayscale color map"
   ]
  },
  {
   "cell_type": "code",
   "execution_count": 10,
   "metadata": {},
   "outputs": [],
   "source": [
    "train_hot_dog_path = os.path.join('data', 'train', 'hot_dog')\n",
    "train_not_hot_dog_path = os.path.join('data', 'train', 'not_hot_dog')\n",
    "\n",
    "test_hot_dog_path = os.path.join('data', 'test', 'hot_dog')\n",
    "test_not_hot_dog_path = os.path.join('data', 'test', 'not_hot_dog')"
   ]
  },
  {
   "cell_type": "code",
   "execution_count": 54,
   "metadata": {},
   "outputs": [],
   "source": [
    "train_hot_dog = []\n",
    "train_not_hot_dog = []\n",
    "test_hot_dog = []\n",
    "test_not_hot_dog = []\n",
    "\n",
    "def load_image(infilename) :\n",
    "    # gray scale\n",
    "    # img = Image.open(infilename).convert('L')\n",
    "    # img.load()\n",
    "    # data = np.asarray(img, dtype=\"int32\").reshape((784))\n",
    "    # color\n",
    "    img = Image.open(infilename)\n",
    "    data = np.asarray(img, dtype=\"int32\").reshape((784 * 3))\n",
    "\n",
    "    return data\n",
    "\n",
    "for root, dirs, files in os.walk(train_hot_dog_path):\n",
    "    for name in files:\n",
    "        im_path = os.path.join(root, name)\n",
    "        if im_path[-3:] == 'jpg':\n",
    "            train_hot_dog.append(load_image(im_path))\n",
    "            \n",
    "for root, dirs, files in os.walk(train_not_hot_dog_path):\n",
    "    for name in files:\n",
    "        im_path = os.path.join(root, name)\n",
    "        if im_path[-3:] == 'jpg':\n",
    "            train_not_hot_dog.append(load_image(im_path))\n",
    "            \n",
    "for root, dirs, files in os.walk(test_hot_dog_path):\n",
    "    for name in files:\n",
    "        im_path = os.path.join(root, name)\n",
    "        if im_path[-3:] == 'jpg':\n",
    "            test_hot_dog.append(load_image(im_path))\n",
    "            \n",
    "for root, dirs, files in os.walk(test_not_hot_dog_path):\n",
    "    for name in files:\n",
    "        im_path = os.path.join(root, name)\n",
    "        if im_path[-3:] == 'jpg':\n",
    "            test_not_hot_dog.append(load_image(im_path))"
   ]
  },
  {
   "cell_type": "code",
   "execution_count": 56,
   "metadata": {
    "scrolled": false
   },
   "outputs": [
    {
     "name": "stdout",
     "output_type": "stream",
     "text": [
      "[0 6 0 ... 1 0 2]\n"
     ]
    },
    {
     "data": {
      "text/plain": [
       "<matplotlib.image.AxesImage at 0x12217d510>"
      ]
     },
     "execution_count": 56,
     "metadata": {},
     "output_type": "execute_result"
    },
    {
     "data": {
      "image/png": "[encoded data removed]",
      "text/plain": [
       "<Figure size 432x288 with 1 Axes>"
      ]
     },
     "metadata": {
      "needs_background": "light"
     },
     "output_type": "display_data"
    }
   ],
   "source": [
    "# sanity check\n",
    "print(train_hot_dog[0])\n",
    "plt.imshow(train_hot_dog[0].reshape(28,28, 3))"
   ]
  },
  {
   "cell_type": "code",
   "execution_count": 59,
   "metadata": {},
   "outputs": [
    {
     "data": {
      "text/plain": [
       "<matplotlib.image.AxesImage at 0x12c85a0d0>"
      ]
     },
     "execution_count": 59,
     "metadata": {},
     "output_type": "execute_result"
    },
    {
     "data": {
      "image/png": "[encoded data removed]",
      "text/plain": [
       "<Figure size 432x288 with 1 Axes>"
      ]
     },
     "metadata": {
      "needs_background": "light"
     },
     "output_type": "display_data"
    }
   ],
   "source": [
    "plt.imshow(train_not_hot_dog[0].reshape(28, 28, 3))"
   ]
  },
  {
   "cell_type": "code",
   "execution_count": 58,
   "metadata": {},
   "outputs": [
    {
     "data": {
      "text/plain": [
       "<matplotlib.image.AxesImage at 0x121415e90>"
      ]
     },
     "execution_count": 58,
     "metadata": {},
     "output_type": "execute_result"
    },
    {
     "data": {
      "image/png": "[encoded data removed]",
      "text/plain": [
       "<Figure size 432x288 with 1 Axes>"
      ]
     },
     "metadata": {
      "needs_background": "light"
     },
     "output_type": "display_data"
    }
   ],
   "source": [
    "plt.imshow(test_hot_dog[0].reshape(28, 28, 3))"
   ]
  },
  {
   "cell_type": "code",
   "execution_count": 57,
   "metadata": {},
   "outputs": [
    {
     "data": {
      "text/plain": [
       "<matplotlib.image.AxesImage at 0x1274e20d0>"
      ]
     },
     "execution_count": 57,
     "metadata": {},
     "output_type": "execute_result"
    },
    {
     "data": {
      "image/png": "[encoded data removed]",
      "text/plain": [
       "<Figure size 432x288 with 1 Axes>"
      ]
     },
     "metadata": {
      "needs_background": "light"
     },
     "output_type": "display_data"
    }
   ],
   "source": [
    "plt.imshow(test_not_hot_dog[0].reshape(28, 28, 3))"
   ]
  },
  {
   "cell_type": "markdown",
   "metadata": {},
   "source": [
    "# QSVM on Hot Dogs and Not Hot Dogs"
   ]
  },
  {
   "cell_type": "code",
   "execution_count": 60,
   "metadata": {},
   "outputs": [],
   "source": [
    "train_0_new = np.array(train_hot_dog)\n",
    "train_1_new = np.array(train_not_hot_dog)\n",
    "\n",
    "test_0_new = np.array(test_hot_dog)\n",
    "test_1_new = np.array(test_not_hot_dog)\n",
    "\n",
    "# Scale images\n",
    "scaler = StandardScaler()\n",
    "scaler.fit(train_0_new)\n",
    "train_0_new = scaler.transform(train_0_new)\n",
    "train_1_new = scaler.transform(train_1_new)\n",
    "test_0_new = scaler.transform(test_0_new)\n",
    "test_1_new = scaler.transform(test_1_new)"
   ]
  },
  {
   "cell_type": "code",
   "execution_count": 61,
   "metadata": {},
   "outputs": [],
   "source": [
    "all_results = {}\n",
    "\n",
    "n_components = 3\n",
    "n_depth = 3\n",
    "\n",
    "pca = PCA(n_components=n_components)\n",
    "pca.fit(train_0_new)\n",
    "train_0_pca = pca.transform(train_0_new)\n",
    "train_1_pca = pca.transform(train_1_new)\n",
    "test_0_pca = pca.transform(test_0_new)\n",
    "test_1_pca = pca.transform(test_1_new)\n",
    "\n",
    "training_dataset_size = 20\n",
    "testing_dataset_size = 10\n",
    "random_seed = 10598\n",
    "shots = 1024\n",
    "\n",
    "\n",
    "train_0_final = train_0_pca[:training_dataset_size]\n",
    "train_1_final = train_1_pca[:training_dataset_size]\n",
    "\n",
    "test_0_final = test_0_pca[:testing_dataset_size]\n",
    "test_1_final = test_1_pca[:testing_dataset_size]\n",
    "\n",
    "train_dataset = {'0': train_0_final, \n",
    "                 '1': train_1_final}\n",
    "\n",
    "test_dataset = {'0': test_0_final, \n",
    "                '1': test_1_final}\n",
    "\n",
    "class_name = {'0': 0, '1': 1}\n",
    "\n",
    "train_datapoints, class_to_label_train = split_dataset_to_data_and_labels(train_dataset, class_name)\n",
    "test_datapoints, class_to_label_test = split_dataset_to_data_and_labels(test_dataset, class_name)\n",
    "\n",
    "#         print(class_to_label_train)\n",
    "#         print(class_to_label_test)\n",
    "\n",
    "# backend = IBMQ.backend('qasm_simulator')             \n",
    "backend = Aer.get_backend('qasm_simulator')\n",
    "\n",
    "feature_map = SecondOrderExpansion(n_components, depth=n_depth)\n",
    "svm = QSVM(feature_map, train_dataset, test_dataset, None)# the data for prediction can be feeded later.\n",
    "svm.random_seed = random_seed\n",
    "quantum_instance = QuantumInstance(backend, shots=shots)\n",
    "result = svm.run(quantum_instance)\n",
    "\n",
    "# print(\"n_components: {}, n_depth: {}\".format(3, ))\n",
    "# print(result['testing_accuracy'])\n",
    "# all_results[(n_components, n_depth)] = result"
   ]
  },
  {
   "cell_type": "code",
   "execution_count": 62,
   "metadata": {},
   "outputs": [
    {
     "name": "stdout",
     "output_type": "stream",
     "text": [
      "0.55\n"
     ]
    }
   ],
   "source": [
    "print(result['testing_accuracy'])"
   ]
  },
  {
   "cell_type": "code",
   "execution_count": null,
   "metadata": {},
   "outputs": [],
   "source": [
    "svm"
   ]
  }
 ],
 "metadata": {
  "kernelspec": {
   "display_name": "Python 3",
   "language": "python",
   "name": "python3"
  },
  "language_info": {
   "codemirror_mode": {
    "name": "ipython",
    "version": 3
   },
   "file_extension": ".py",
   "mimetype": "text/x-python",
   "name": "python",
   "nbconvert_exporter": "python",
   "pygments_lexer": "ipython3",
   "version": "3.7.4"
  }
 },
 "nbformat": 4,
 "nbformat_minor": 2
}
